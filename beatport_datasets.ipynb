{
 "cells": [
  {
   "cell_type": "markdown",
   "metadata": {},
   "source": [
    "### Join the beatport dataframes"
   ]
  },
  {
   "cell_type": "code",
   "execution_count": 2,
   "metadata": {},
   "outputs": [],
   "source": [
    "import pandas as pd"
   ]
  },
  {
   "cell_type": "code",
   "execution_count": null,
   "metadata": {},
   "outputs": [
    {
     "name": "stdout",
     "output_type": "stream",
     "text": [
      "Starting data integration process...\n",
      "Loading data...\n"
     ]
    },
    {
     "name": "stderr",
     "output_type": "stream",
     "text": [
      "C:\\Users\\olivi\\AppData\\Local\\Temp\\ipykernel_24680\\1614804988.py:24: DtypeWarning: Columns (16) have mixed types. Specify dtype option on import or set low_memory=False.\n",
      "  dfs[key] = pd.read_csv(file)\n"
     ]
    },
    {
     "name": "stdout",
     "output_type": "stream",
     "text": [
      "Starting joins...\n",
      "Processing track information...\n",
      "Adding key information...\n",
      "Adding genre and subgenre information...\n",
      "Adding release information...\n",
      "Adding label information...\n",
      "Adding artist information...\n",
      "Cleaning up the dataset...\n",
      "\n",
      "Dataset Report:\n",
      "--------------------------------------------------\n",
      "Total number of rows: 36900320\n",
      "Total number of columns: 52\n",
      "\n",
      "Unique counts:\n",
      "Tracks: 10685331\n",
      "Artists: 824763\n",
      "Labels: 78283\n",
      "Releases: 2598492\n",
      "Genres: 32\n",
      "Subgenres: 72\n",
      "Keys: 34\n",
      "\n",
      "Missing values summary:\n",
      "title                        157\n",
      "mix                            9\n",
      "subgenre_id             32031014\n",
      "duration                   10062\n",
      "duration_ms                10062\n",
      "isrc                      914141\n",
      "key_id                     20539\n",
      "is_matched_spot         12760617\n",
      "wave_img_id                55648\n",
      "wave_img_uuid              55648\n",
      "sample_start               10696\n",
      "sample_end                 10696\n",
      "key_letter                 20539\n",
      "key_name                   20539\n",
      "camelot_num                20539\n",
      "camelot_letter             20539\n",
      "is_sharp                   20539\n",
      "is_flat                    20539\n",
      "chord_id                   20539\n",
      "chord_name                 20539\n",
      "subgenre_id_subgenre     2448155\n",
      "subgenre_name            2448155\n",
      "song_count_subgenre      2448155\n",
      "subgenre_url             2448155\n",
      "updated_on               2448155\n",
      "release_title                112\n",
      "label_name                    12\n",
      "artist_name                  321\n",
      "dtype: int64\n",
      "\n",
      "Saving complete dataset...\n",
      "Dataset saved successfully!\n"
     ]
    }
   ],
   "source": [
    "def load_beatport_data():\n",
    "    \"\"\"Load all Beatport CSV files into dataframes\"\"\"\n",
    "    files = {\n",
    "        'artists': 'data/bp_artist.csv',\n",
    "        'artist_media': 'data/bp_artist_media.csv',\n",
    "        'artist_release': 'data/bp_artist_release.csv',\n",
    "        'artist_track': 'data/bp_artist_track.csv',\n",
    "        'genres': 'data/bp_genre.csv',\n",
    "        'keys': 'data/bp_key.csv',\n",
    "        'label_artist': 'data/bp_label_artist.csv',\n",
    "        'labels': 'data/bp_label.csv',\n",
    "        'label_media': 'data/bp_label_media.csv',\n",
    "        'releases': 'data/bp_release.csv',\n",
    "        'release_media': 'data/bp_release_media.csv',\n",
    "        'subgenres': 'data/bp_subgenre.csv',\n",
    "        'tracks': 'data/bp_track.csv',\n",
    "        'track_media': 'data/bp_track_media.csv'\n",
    "}\n",
    "    \n",
    "    dfs = {}\n",
    "    for key, file in files.items():\n",
    "        dfs[key] = pd.read_csv(file)\n",
    "    return dfs\n",
    "\n",
    "def create_complete_dataset():\n",
    "    \"\"\"Create complete dataset by joining all Beatport data\"\"\"\n",
    "    # Load all dataframes\n",
    "    print(\"Loading data...\")\n",
    "    dfs = load_beatport_data()\n",
    "    \n",
    "    print(\"Starting joins...\")\n",
    "    \n",
    "    # 1. Start with tracks and add track media\n",
    "    print(\"Processing track information...\")\n",
    "    df = pd.merge(\n",
    "        dfs['tracks'],\n",
    "        dfs['track_media'],\n",
    "        on='track_id',\n",
    "        how='left',\n",
    "        suffixes=('', '_track_media')\n",
    "    )\n",
    "    \n",
    "    # 2. Add key information\n",
    "    print(\"Adding key information...\")\n",
    "    df = pd.merge(\n",
    "        df,\n",
    "        dfs['keys'],\n",
    "        on='key_id',\n",
    "        how='left'\n",
    "    )\n",
    "    \n",
    "    # 3. Add genre information\n",
    "    print(\"Adding genre and subgenre information...\")\n",
    "    df = pd.merge(\n",
    "        df,\n",
    "        dfs['genres'],\n",
    "        on='genre_id',\n",
    "        how='left'\n",
    "    )\n",
    "    \n",
    "    df = pd.merge(\n",
    "        df,\n",
    "        dfs['subgenres'],\n",
    "        on=['genre_id', 'genre_url'],\n",
    "        how='left',\n",
    "        suffixes=('', '_subgenre')\n",
    "    )\n",
    "    \n",
    "    # 4. Add release information\n",
    "    print(\"Adding release information...\")\n",
    "    df = pd.merge(\n",
    "        df,\n",
    "        dfs['releases'],\n",
    "        on=['release_id', 'label_id'],\n",
    "        how='left',\n",
    "        suffixes=('', '_release')\n",
    "    )\n",
    "    \n",
    "    # 5. Add release media\n",
    "    df = pd.merge(\n",
    "        df,\n",
    "        dfs['release_media'],\n",
    "        on='release_id',\n",
    "        how='left',\n",
    "        suffixes=('', '_release_media')\n",
    "    )\n",
    "    \n",
    "    # 6. Add label information\n",
    "    print(\"Adding label information...\")\n",
    "    df = pd.merge(\n",
    "        df,\n",
    "        dfs['labels'],\n",
    "        on='label_id',\n",
    "        how='left',\n",
    "        suffixes=('', '_label')\n",
    "    )\n",
    "    \n",
    "    df = pd.merge(\n",
    "        df,\n",
    "        dfs['label_media'],\n",
    "        on='label_id',\n",
    "        how='left',\n",
    "        suffixes=('', '_label_media')\n",
    "    )\n",
    "    \n",
    "    # 7. Add artist relationships through artist_track\n",
    "    print(\"Adding artist information...\")\n",
    "    df = pd.merge(\n",
    "        df,\n",
    "        dfs['artist_track'],\n",
    "        on='track_id',\n",
    "        how='left',\n",
    "        suffixes=('', '_artist_track')\n",
    "    )\n",
    "    \n",
    "    # 8. Add artist details\n",
    "    df = pd.merge(\n",
    "        df,\n",
    "        dfs['artists'],\n",
    "        on='artist_id',\n",
    "        how='left',\n",
    "        suffixes=('', '_artist')\n",
    "    )\n",
    "    \n",
    "    # 9. Add artist media\n",
    "    df = pd.merge(\n",
    "        df,\n",
    "        dfs['artist_media'],\n",
    "        on='artist_id',\n",
    "        how='left',\n",
    "        suffixes=('', '_artist_media')\n",
    "    )\n",
    "    \n",
    "    # Clean up columns\n",
    "    print(\"Cleaning up the dataset...\")\n",
    "    # Remove duplicate updated_on columns\n",
    "    columns_to_drop = [col for col in df.columns if col.startswith('updated_on_')]\n",
    "    # Remove duplicate URL columns and other duplicates\n",
    "    columns_to_drop.extend([col for col in df.columns if col.endswith(('_x', '_y'))])\n",
    "    df = df.drop(columns=columns_to_drop)\n",
    "    \n",
    "    return df\n",
    "\n",
    "def generate_dataset_report(df):\n",
    "    \"\"\"Generate a report about the dataset\"\"\"\n",
    "    print(\"\\nDataset Report:\")\n",
    "    print(\"-\" * 50)\n",
    "    print(f\"Total number of rows: {len(df)}\")\n",
    "    print(f\"Total number of columns: {len(df.columns)}\")\n",
    "    print(\"\\nUnique counts:\")\n",
    "    print(f\"Tracks: {df['track_id'].nunique()}\")\n",
    "    print(f\"Artists: {df['artist_id'].nunique()}\")\n",
    "    print(f\"Labels: {df['label_id'].nunique()}\")\n",
    "    print(f\"Releases: {df['release_id'].nunique()}\")\n",
    "    print(f\"Genres: {df['genre_id'].nunique()}\")\n",
    "    print(f\"Subgenres: {df['subgenre_id'].nunique()}\")\n",
    "    print(f\"Keys: {df['key_id'].nunique()}\")\n",
    "    \n",
    "    print(\"\\nMissing values summary:\")\n",
    "    missing = df.isnull().sum()\n",
    "    missing = missing[missing > 0]\n",
    "    print(missing)\n",
    "\n",
    "def main():\n",
    "    # Create the complete dataset\n",
    "    print(\"Starting data integration process...\")\n",
    "    final_df = create_complete_dataset()\n",
    "    \n",
    "    # Generate and display report\n",
    "    generate_dataset_report(final_df)\n",
    "    \n",
    "    # Save the final dataset\n",
    "    print(\"\\nSaving complete dataset...\")\n",
    "    final_df.to_csv('beatport_complete_data.csv', index=False)\n",
    "    print(\"Dataset saved successfully!\")\n",
    "    \n",
    "    return final_df\n",
    "\n",
    "if __name__ == \"__main__\":\n",
    "    final_df = main()"
   ]
  },
  {
   "cell_type": "code",
   "execution_count": 1,
   "metadata": {},
   "outputs": [
    {
     "name": "stdout",
     "output_type": "stream",
     "text": [
      "Starting to process file in chunks...\n"
     ]
    },
    {
     "name": "stderr",
     "output_type": "stream",
     "text": [
      "C:\\Users\\olivi\\AppData\\Local\\Temp\\ipykernel_27380\\3690345104.py:15: DtypeWarning: Columns (15) have mixed types. Specify dtype option on import or set low_memory=False.\n",
      "  for chunk in pd.read_csv(\"beatport_complete_data.csv\", chunksize=100000):\n"
     ]
    },
    {
     "name": "stdout",
     "output_type": "stream",
     "text": [
      "Processing chunk 1...\n",
      "Created new file for genre: Trance (Raw / Deep / Hypnotic)\n",
      "Created new file for genre: Techno (Raw / Deep / Hypnotic)\n",
      "Created new file for genre: Tech House\n",
      "Created new file for genre: Amapiano\n",
      "Created new file for genre: Deep House\n",
      "Created new file for genre: Electro (Classic / Detroit / Modern)\n",
      "Created new file for genre: 140 / Deep Dubstep / Grime\n",
      "Created new file for genre: Bass / Club\n",
      "Created new file for genre: Jackin House\n",
      "Created new file for genre: UK Garage / Bassline\n"
     ]
    },
    {
     "name": "stderr",
     "output_type": "stream",
     "text": [
      "C:\\Users\\olivi\\AppData\\Local\\Temp\\ipykernel_27380\\3690345104.py:15: DtypeWarning: Columns (15,33,35,36) have mixed types. Specify dtype option on import or set low_memory=False.\n",
      "  for chunk in pd.read_csv(\"beatport_complete_data.csv\", chunksize=100000):\n"
     ]
    },
    {
     "name": "stdout",
     "output_type": "stream",
     "text": [
      "Processing chunk 2...\n",
      "Created new file for genre: Bass House\n",
      "Created new file for genre: Afro House\n",
      "Created new file for genre: Hard Techno\n"
     ]
    },
    {
     "name": "stderr",
     "output_type": "stream",
     "text": [
      "C:\\Users\\olivi\\AppData\\Local\\Temp\\ipykernel_27380\\3690345104.py:15: DtypeWarning: Columns (15,33,35,36) have mixed types. Specify dtype option on import or set low_memory=False.\n",
      "  for chunk in pd.read_csv(\"beatport_complete_data.csv\", chunksize=100000):\n"
     ]
    },
    {
     "name": "stdout",
     "output_type": "stream",
     "text": [
      "Processing chunk 3...\n",
      "Created new file for genre: Funky House\n",
      "Created new file for genre: Organic House / Downtempo\n",
      "Created new file for genre: Techno (Peak Time / Driving)\n"
     ]
    },
    {
     "name": "stderr",
     "output_type": "stream",
     "text": [
      "C:\\Users\\olivi\\AppData\\Local\\Temp\\ipykernel_27380\\3690345104.py:15: DtypeWarning: Columns (15) have mixed types. Specify dtype option on import or set low_memory=False.\n",
      "  for chunk in pd.read_csv(\"beatport_complete_data.csv\", chunksize=100000):\n"
     ]
    },
    {
     "name": "stdout",
     "output_type": "stream",
     "text": [
      "Processing chunk 4...\n"
     ]
    },
    {
     "name": "stderr",
     "output_type": "stream",
     "text": [
      "C:\\Users\\olivi\\AppData\\Local\\Temp\\ipykernel_27380\\3690345104.py:15: DtypeWarning: Columns (15) have mixed types. Specify dtype option on import or set low_memory=False.\n",
      "  for chunk in pd.read_csv(\"beatport_complete_data.csv\", chunksize=100000):\n"
     ]
    },
    {
     "name": "stdout",
     "output_type": "stream",
     "text": [
      "Processing chunk 5...\n"
     ]
    },
    {
     "name": "stderr",
     "output_type": "stream",
     "text": [
      "C:\\Users\\olivi\\AppData\\Local\\Temp\\ipykernel_27380\\3690345104.py:15: DtypeWarning: Columns (15) have mixed types. Specify dtype option on import or set low_memory=False.\n",
      "  for chunk in pd.read_csv(\"beatport_complete_data.csv\", chunksize=100000):\n"
     ]
    },
    {
     "name": "stdout",
     "output_type": "stream",
     "text": [
      "Processing chunk 6...\n"
     ]
    },
    {
     "name": "stderr",
     "output_type": "stream",
     "text": [
      "C:\\Users\\olivi\\AppData\\Local\\Temp\\ipykernel_27380\\3690345104.py:15: DtypeWarning: Columns (15) have mixed types. Specify dtype option on import or set low_memory=False.\n",
      "  for chunk in pd.read_csv(\"beatport_complete_data.csv\", chunksize=100000):\n"
     ]
    },
    {
     "name": "stdout",
     "output_type": "stream",
     "text": [
      "Processing chunk 7...\n"
     ]
    },
    {
     "name": "stderr",
     "output_type": "stream",
     "text": [
      "C:\\Users\\olivi\\AppData\\Local\\Temp\\ipykernel_27380\\3690345104.py:15: DtypeWarning: Columns (15) have mixed types. Specify dtype option on import or set low_memory=False.\n",
      "  for chunk in pd.read_csv(\"beatport_complete_data.csv\", chunksize=100000):\n"
     ]
    },
    {
     "name": "stdout",
     "output_type": "stream",
     "text": [
      "Processing chunk 8...\n"
     ]
    },
    {
     "name": "stderr",
     "output_type": "stream",
     "text": [
      "C:\\Users\\olivi\\AppData\\Local\\Temp\\ipykernel_27380\\3690345104.py:15: DtypeWarning: Columns (15) have mixed types. Specify dtype option on import or set low_memory=False.\n",
      "  for chunk in pd.read_csv(\"beatport_complete_data.csv\", chunksize=100000):\n"
     ]
    },
    {
     "name": "stdout",
     "output_type": "stream",
     "text": [
      "Processing chunk 9...\n"
     ]
    },
    {
     "name": "stderr",
     "output_type": "stream",
     "text": [
      "C:\\Users\\olivi\\AppData\\Local\\Temp\\ipykernel_27380\\3690345104.py:15: DtypeWarning: Columns (15) have mixed types. Specify dtype option on import or set low_memory=False.\n",
      "  for chunk in pd.read_csv(\"beatport_complete_data.csv\", chunksize=100000):\n"
     ]
    },
    {
     "name": "stdout",
     "output_type": "stream",
     "text": [
      "Processing chunk 10...\n"
     ]
    },
    {
     "name": "stderr",
     "output_type": "stream",
     "text": [
      "C:\\Users\\olivi\\AppData\\Local\\Temp\\ipykernel_27380\\3690345104.py:15: DtypeWarning: Columns (15) have mixed types. Specify dtype option on import or set low_memory=False.\n",
      "  for chunk in pd.read_csv(\"beatport_complete_data.csv\", chunksize=100000):\n"
     ]
    },
    {
     "name": "stdout",
     "output_type": "stream",
     "text": [
      "Processing chunk 11...\n"
     ]
    },
    {
     "name": "stderr",
     "output_type": "stream",
     "text": [
      "C:\\Users\\olivi\\AppData\\Local\\Temp\\ipykernel_27380\\3690345104.py:15: DtypeWarning: Columns (15) have mixed types. Specify dtype option on import or set low_memory=False.\n",
      "  for chunk in pd.read_csv(\"beatport_complete_data.csv\", chunksize=100000):\n"
     ]
    },
    {
     "name": "stdout",
     "output_type": "stream",
     "text": [
      "Processing chunk 12...\n"
     ]
    },
    {
     "name": "stderr",
     "output_type": "stream",
     "text": [
      "C:\\Users\\olivi\\AppData\\Local\\Temp\\ipykernel_27380\\3690345104.py:15: DtypeWarning: Columns (15) have mixed types. Specify dtype option on import or set low_memory=False.\n",
      "  for chunk in pd.read_csv(\"beatport_complete_data.csv\", chunksize=100000):\n"
     ]
    },
    {
     "name": "stdout",
     "output_type": "stream",
     "text": [
      "Processing chunk 13...\n"
     ]
    },
    {
     "name": "stderr",
     "output_type": "stream",
     "text": [
      "C:\\Users\\olivi\\AppData\\Local\\Temp\\ipykernel_27380\\3690345104.py:15: DtypeWarning: Columns (15) have mixed types. Specify dtype option on import or set low_memory=False.\n",
      "  for chunk in pd.read_csv(\"beatport_complete_data.csv\", chunksize=100000):\n"
     ]
    },
    {
     "name": "stdout",
     "output_type": "stream",
     "text": [
      "Processing chunk 14...\n"
     ]
    },
    {
     "name": "stderr",
     "output_type": "stream",
     "text": [
      "C:\\Users\\olivi\\AppData\\Local\\Temp\\ipykernel_27380\\3690345104.py:15: DtypeWarning: Columns (15) have mixed types. Specify dtype option on import or set low_memory=False.\n",
      "  for chunk in pd.read_csv(\"beatport_complete_data.csv\", chunksize=100000):\n"
     ]
    },
    {
     "name": "stdout",
     "output_type": "stream",
     "text": [
      "Processing chunk 15...\n"
     ]
    },
    {
     "name": "stderr",
     "output_type": "stream",
     "text": [
      "C:\\Users\\olivi\\AppData\\Local\\Temp\\ipykernel_27380\\3690345104.py:15: DtypeWarning: Columns (15) have mixed types. Specify dtype option on import or set low_memory=False.\n",
      "  for chunk in pd.read_csv(\"beatport_complete_data.csv\", chunksize=100000):\n"
     ]
    },
    {
     "name": "stdout",
     "output_type": "stream",
     "text": [
      "Processing chunk 16...\n",
      "Created new file for genre: Dubstep\n"
     ]
    },
    {
     "name": "stderr",
     "output_type": "stream",
     "text": [
      "C:\\Users\\olivi\\AppData\\Local\\Temp\\ipykernel_27380\\3690345104.py:15: DtypeWarning: Columns (15) have mixed types. Specify dtype option on import or set low_memory=False.\n",
      "  for chunk in pd.read_csv(\"beatport_complete_data.csv\", chunksize=100000):\n"
     ]
    },
    {
     "name": "stdout",
     "output_type": "stream",
     "text": [
      "Processing chunk 17...\n",
      "Created new file for genre: Psy-Trance\n",
      "Processing chunk 18...\n"
     ]
    },
    {
     "name": "stderr",
     "output_type": "stream",
     "text": [
      "C:\\Users\\olivi\\AppData\\Local\\Temp\\ipykernel_27380\\3690345104.py:15: DtypeWarning: Columns (15) have mixed types. Specify dtype option on import or set low_memory=False.\n",
      "  for chunk in pd.read_csv(\"beatport_complete_data.csv\", chunksize=100000):\n"
     ]
    },
    {
     "name": "stdout",
     "output_type": "stream",
     "text": [
      "Processing chunk 19...\n"
     ]
    },
    {
     "name": "stderr",
     "output_type": "stream",
     "text": [
      "C:\\Users\\olivi\\AppData\\Local\\Temp\\ipykernel_27380\\3690345104.py:15: DtypeWarning: Columns (15) have mixed types. Specify dtype option on import or set low_memory=False.\n",
      "  for chunk in pd.read_csv(\"beatport_complete_data.csv\", chunksize=100000):\n"
     ]
    },
    {
     "name": "stdout",
     "output_type": "stream",
     "text": [
      "Processing chunk 20...\n"
     ]
    },
    {
     "name": "stderr",
     "output_type": "stream",
     "text": [
      "C:\\Users\\olivi\\AppData\\Local\\Temp\\ipykernel_27380\\3690345104.py:15: DtypeWarning: Columns (15) have mixed types. Specify dtype option on import or set low_memory=False.\n",
      "  for chunk in pd.read_csv(\"beatport_complete_data.csv\", chunksize=100000):\n"
     ]
    },
    {
     "name": "stdout",
     "output_type": "stream",
     "text": [
      "Processing chunk 21...\n"
     ]
    },
    {
     "name": "stderr",
     "output_type": "stream",
     "text": [
      "C:\\Users\\olivi\\AppData\\Local\\Temp\\ipykernel_27380\\3690345104.py:15: DtypeWarning: Columns (15) have mixed types. Specify dtype option on import or set low_memory=False.\n",
      "  for chunk in pd.read_csv(\"beatport_complete_data.csv\", chunksize=100000):\n"
     ]
    },
    {
     "name": "stdout",
     "output_type": "stream",
     "text": [
      "Processing chunk 22...\n",
      "Created new file for genre: Nu Disco / Disco\n"
     ]
    },
    {
     "name": "stderr",
     "output_type": "stream",
     "text": [
      "C:\\Users\\olivi\\AppData\\Local\\Temp\\ipykernel_27380\\3690345104.py:15: DtypeWarning: Columns (15) have mixed types. Specify dtype option on import or set low_memory=False.\n",
      "  for chunk in pd.read_csv(\"beatport_complete_data.csv\", chunksize=100000):\n"
     ]
    },
    {
     "name": "stdout",
     "output_type": "stream",
     "text": [
      "Processing chunk 23...\n",
      "Created new file for genre: Hard Dance / Hardcore\n",
      "Processing chunk 24...\n",
      "Processing chunk 25...\n"
     ]
    },
    {
     "name": "stderr",
     "output_type": "stream",
     "text": [
      "C:\\Users\\olivi\\AppData\\Local\\Temp\\ipykernel_27380\\3690345104.py:15: DtypeWarning: Columns (15) have mixed types. Specify dtype option on import or set low_memory=False.\n",
      "  for chunk in pd.read_csv(\"beatport_complete_data.csv\", chunksize=100000):\n"
     ]
    },
    {
     "name": "stdout",
     "output_type": "stream",
     "text": [
      "Processing chunk 26...\n"
     ]
    },
    {
     "name": "stderr",
     "output_type": "stream",
     "text": [
      "C:\\Users\\olivi\\AppData\\Local\\Temp\\ipykernel_27380\\3690345104.py:15: DtypeWarning: Columns (15) have mixed types. Specify dtype option on import or set low_memory=False.\n",
      "  for chunk in pd.read_csv(\"beatport_complete_data.csv\", chunksize=100000):\n"
     ]
    },
    {
     "name": "stdout",
     "output_type": "stream",
     "text": [
      "Processing chunk 27...\n",
      "Processing chunk 28...\n"
     ]
    },
    {
     "name": "stderr",
     "output_type": "stream",
     "text": [
      "C:\\Users\\olivi\\AppData\\Local\\Temp\\ipykernel_27380\\3690345104.py:15: DtypeWarning: Columns (15) have mixed types. Specify dtype option on import or set low_memory=False.\n",
      "  for chunk in pd.read_csv(\"beatport_complete_data.csv\", chunksize=100000):\n"
     ]
    },
    {
     "name": "stdout",
     "output_type": "stream",
     "text": [
      "Processing chunk 29...\n"
     ]
    },
    {
     "name": "stderr",
     "output_type": "stream",
     "text": [
      "C:\\Users\\olivi\\AppData\\Local\\Temp\\ipykernel_27380\\3690345104.py:15: DtypeWarning: Columns (15) have mixed types. Specify dtype option on import or set low_memory=False.\n",
      "  for chunk in pd.read_csv(\"beatport_complete_data.csv\", chunksize=100000):\n"
     ]
    },
    {
     "name": "stdout",
     "output_type": "stream",
     "text": [
      "Processing chunk 30...\n"
     ]
    },
    {
     "name": "stderr",
     "output_type": "stream",
     "text": [
      "C:\\Users\\olivi\\AppData\\Local\\Temp\\ipykernel_27380\\3690345104.py:15: DtypeWarning: Columns (15) have mixed types. Specify dtype option on import or set low_memory=False.\n",
      "  for chunk in pd.read_csv(\"beatport_complete_data.csv\", chunksize=100000):\n"
     ]
    },
    {
     "name": "stdout",
     "output_type": "stream",
     "text": [
      "Processing chunk 31...\n"
     ]
    },
    {
     "name": "stderr",
     "output_type": "stream",
     "text": [
      "C:\\Users\\olivi\\AppData\\Local\\Temp\\ipykernel_27380\\3690345104.py:15: DtypeWarning: Columns (15) have mixed types. Specify dtype option on import or set low_memory=False.\n",
      "  for chunk in pd.read_csv(\"beatport_complete_data.csv\", chunksize=100000):\n"
     ]
    },
    {
     "name": "stdout",
     "output_type": "stream",
     "text": [
      "Processing chunk 32...\n",
      "Created new file for genre: Indie Dance\n",
      "Created new file for genre: House\n"
     ]
    },
    {
     "name": "stderr",
     "output_type": "stream",
     "text": [
      "C:\\Users\\olivi\\AppData\\Local\\Temp\\ipykernel_27380\\3690345104.py:15: DtypeWarning: Columns (15) have mixed types. Specify dtype option on import or set low_memory=False.\n",
      "  for chunk in pd.read_csv(\"beatport_complete_data.csv\", chunksize=100000):\n"
     ]
    },
    {
     "name": "stdout",
     "output_type": "stream",
     "text": [
      "Processing chunk 33...\n"
     ]
    },
    {
     "name": "stderr",
     "output_type": "stream",
     "text": [
      "C:\\Users\\olivi\\AppData\\Local\\Temp\\ipykernel_27380\\3690345104.py:15: DtypeWarning: Columns (15) have mixed types. Specify dtype option on import or set low_memory=False.\n",
      "  for chunk in pd.read_csv(\"beatport_complete_data.csv\", chunksize=100000):\n"
     ]
    },
    {
     "name": "stdout",
     "output_type": "stream",
     "text": [
      "Processing chunk 34...\n"
     ]
    },
    {
     "name": "stderr",
     "output_type": "stream",
     "text": [
      "C:\\Users\\olivi\\AppData\\Local\\Temp\\ipykernel_27380\\3690345104.py:15: DtypeWarning: Columns (15) have mixed types. Specify dtype option on import or set low_memory=False.\n",
      "  for chunk in pd.read_csv(\"beatport_complete_data.csv\", chunksize=100000):\n"
     ]
    },
    {
     "name": "stdout",
     "output_type": "stream",
     "text": [
      "Processing chunk 35...\n"
     ]
    },
    {
     "name": "stderr",
     "output_type": "stream",
     "text": [
      "C:\\Users\\olivi\\AppData\\Local\\Temp\\ipykernel_27380\\3690345104.py:15: DtypeWarning: Columns (15) have mixed types. Specify dtype option on import or set low_memory=False.\n",
      "  for chunk in pd.read_csv(\"beatport_complete_data.csv\", chunksize=100000):\n"
     ]
    },
    {
     "name": "stdout",
     "output_type": "stream",
     "text": [
      "Processing chunk 36...\n"
     ]
    },
    {
     "name": "stderr",
     "output_type": "stream",
     "text": [
      "C:\\Users\\olivi\\AppData\\Local\\Temp\\ipykernel_27380\\3690345104.py:15: DtypeWarning: Columns (15) have mixed types. Specify dtype option on import or set low_memory=False.\n",
      "  for chunk in pd.read_csv(\"beatport_complete_data.csv\", chunksize=100000):\n"
     ]
    },
    {
     "name": "stdout",
     "output_type": "stream",
     "text": [
      "Processing chunk 37...\n"
     ]
    },
    {
     "name": "stderr",
     "output_type": "stream",
     "text": [
      "C:\\Users\\olivi\\AppData\\Local\\Temp\\ipykernel_27380\\3690345104.py:15: DtypeWarning: Columns (15) have mixed types. Specify dtype option on import or set low_memory=False.\n",
      "  for chunk in pd.read_csv(\"beatport_complete_data.csv\", chunksize=100000):\n"
     ]
    },
    {
     "name": "stdout",
     "output_type": "stream",
     "text": [
      "Processing chunk 38...\n"
     ]
    },
    {
     "name": "stderr",
     "output_type": "stream",
     "text": [
      "C:\\Users\\olivi\\AppData\\Local\\Temp\\ipykernel_27380\\3690345104.py:15: DtypeWarning: Columns (15) have mixed types. Specify dtype option on import or set low_memory=False.\n",
      "  for chunk in pd.read_csv(\"beatport_complete_data.csv\", chunksize=100000):\n"
     ]
    },
    {
     "name": "stdout",
     "output_type": "stream",
     "text": [
      "Processing chunk 39...\n"
     ]
    },
    {
     "name": "stderr",
     "output_type": "stream",
     "text": [
      "C:\\Users\\olivi\\AppData\\Local\\Temp\\ipykernel_27380\\3690345104.py:15: DtypeWarning: Columns (15) have mixed types. Specify dtype option on import or set low_memory=False.\n",
      "  for chunk in pd.read_csv(\"beatport_complete_data.csv\", chunksize=100000):\n"
     ]
    },
    {
     "name": "stdout",
     "output_type": "stream",
     "text": [
      "Processing chunk 40...\n"
     ]
    },
    {
     "name": "stderr",
     "output_type": "stream",
     "text": [
      "C:\\Users\\olivi\\AppData\\Local\\Temp\\ipykernel_27380\\3690345104.py:15: DtypeWarning: Columns (15) have mixed types. Specify dtype option on import or set low_memory=False.\n",
      "  for chunk in pd.read_csv(\"beatport_complete_data.csv\", chunksize=100000):\n"
     ]
    },
    {
     "name": "stdout",
     "output_type": "stream",
     "text": [
      "Processing chunk 41...\n"
     ]
    },
    {
     "name": "stderr",
     "output_type": "stream",
     "text": [
      "C:\\Users\\olivi\\AppData\\Local\\Temp\\ipykernel_27380\\3690345104.py:15: DtypeWarning: Columns (15) have mixed types. Specify dtype option on import or set low_memory=False.\n",
      "  for chunk in pd.read_csv(\"beatport_complete_data.csv\", chunksize=100000):\n"
     ]
    },
    {
     "name": "stdout",
     "output_type": "stream",
     "text": [
      "Processing chunk 42...\n"
     ]
    },
    {
     "name": "stderr",
     "output_type": "stream",
     "text": [
      "C:\\Users\\olivi\\AppData\\Local\\Temp\\ipykernel_27380\\3690345104.py:15: DtypeWarning: Columns (15) have mixed types. Specify dtype option on import or set low_memory=False.\n",
      "  for chunk in pd.read_csv(\"beatport_complete_data.csv\", chunksize=100000):\n"
     ]
    },
    {
     "name": "stdout",
     "output_type": "stream",
     "text": [
      "Processing chunk 43...\n"
     ]
    },
    {
     "name": "stderr",
     "output_type": "stream",
     "text": [
      "C:\\Users\\olivi\\AppData\\Local\\Temp\\ipykernel_27380\\3690345104.py:15: DtypeWarning: Columns (15) have mixed types. Specify dtype option on import or set low_memory=False.\n",
      "  for chunk in pd.read_csv(\"beatport_complete_data.csv\", chunksize=100000):\n"
     ]
    },
    {
     "name": "stdout",
     "output_type": "stream",
     "text": [
      "Processing chunk 44...\n"
     ]
    },
    {
     "name": "stderr",
     "output_type": "stream",
     "text": [
      "C:\\Users\\olivi\\AppData\\Local\\Temp\\ipykernel_27380\\3690345104.py:15: DtypeWarning: Columns (15) have mixed types. Specify dtype option on import or set low_memory=False.\n",
      "  for chunk in pd.read_csv(\"beatport_complete_data.csv\", chunksize=100000):\n"
     ]
    },
    {
     "name": "stdout",
     "output_type": "stream",
     "text": [
      "Processing chunk 45...\n",
      "Created new file for genre: Melodic House & Techno\n",
      "Processing chunk 46...\n"
     ]
    },
    {
     "name": "stderr",
     "output_type": "stream",
     "text": [
      "C:\\Users\\olivi\\AppData\\Local\\Temp\\ipykernel_27380\\3690345104.py:15: DtypeWarning: Columns (15) have mixed types. Specify dtype option on import or set low_memory=False.\n",
      "  for chunk in pd.read_csv(\"beatport_complete_data.csv\", chunksize=100000):\n"
     ]
    },
    {
     "name": "stdout",
     "output_type": "stream",
     "text": [
      "Processing chunk 47...\n",
      "Created new file for genre: Breaks / Breakbeat / UK Bass\n"
     ]
    },
    {
     "name": "stderr",
     "output_type": "stream",
     "text": [
      "C:\\Users\\olivi\\AppData\\Local\\Temp\\ipykernel_27380\\3690345104.py:15: DtypeWarning: Columns (15) have mixed types. Specify dtype option on import or set low_memory=False.\n",
      "  for chunk in pd.read_csv(\"beatport_complete_data.csv\", chunksize=100000):\n"
     ]
    },
    {
     "name": "stdout",
     "output_type": "stream",
     "text": [
      "Processing chunk 48...\n",
      "Created new file for genre: Drum & Bass\n"
     ]
    },
    {
     "name": "stderr",
     "output_type": "stream",
     "text": [
      "C:\\Users\\olivi\\AppData\\Local\\Temp\\ipykernel_27380\\3690345104.py:15: DtypeWarning: Columns (15) have mixed types. Specify dtype option on import or set low_memory=False.\n",
      "  for chunk in pd.read_csv(\"beatport_complete_data.csv\", chunksize=100000):\n"
     ]
    },
    {
     "name": "stdout",
     "output_type": "stream",
     "text": [
      "Processing chunk 49...\n"
     ]
    },
    {
     "name": "stderr",
     "output_type": "stream",
     "text": [
      "C:\\Users\\olivi\\AppData\\Local\\Temp\\ipykernel_27380\\3690345104.py:15: DtypeWarning: Columns (15) have mixed types. Specify dtype option on import or set low_memory=False.\n",
      "  for chunk in pd.read_csv(\"beatport_complete_data.csv\", chunksize=100000):\n"
     ]
    },
    {
     "name": "stdout",
     "output_type": "stream",
     "text": [
      "Processing chunk 50...\n"
     ]
    },
    {
     "name": "stderr",
     "output_type": "stream",
     "text": [
      "C:\\Users\\olivi\\AppData\\Local\\Temp\\ipykernel_27380\\3690345104.py:15: DtypeWarning: Columns (15) have mixed types. Specify dtype option on import or set low_memory=False.\n",
      "  for chunk in pd.read_csv(\"beatport_complete_data.csv\", chunksize=100000):\n"
     ]
    },
    {
     "name": "stdout",
     "output_type": "stream",
     "text": [
      "Processing chunk 51...\n"
     ]
    },
    {
     "name": "stderr",
     "output_type": "stream",
     "text": [
      "C:\\Users\\olivi\\AppData\\Local\\Temp\\ipykernel_27380\\3690345104.py:15: DtypeWarning: Columns (15) have mixed types. Specify dtype option on import or set low_memory=False.\n",
      "  for chunk in pd.read_csv(\"beatport_complete_data.csv\", chunksize=100000):\n"
     ]
    },
    {
     "name": "stdout",
     "output_type": "stream",
     "text": [
      "Processing chunk 52...\n"
     ]
    },
    {
     "name": "stderr",
     "output_type": "stream",
     "text": [
      "C:\\Users\\olivi\\AppData\\Local\\Temp\\ipykernel_27380\\3690345104.py:15: DtypeWarning: Columns (15) have mixed types. Specify dtype option on import or set low_memory=False.\n",
      "  for chunk in pd.read_csv(\"beatport_complete_data.csv\", chunksize=100000):\n"
     ]
    },
    {
     "name": "stdout",
     "output_type": "stream",
     "text": [
      "Processing chunk 53...\n"
     ]
    },
    {
     "name": "stderr",
     "output_type": "stream",
     "text": [
      "C:\\Users\\olivi\\AppData\\Local\\Temp\\ipykernel_27380\\3690345104.py:15: DtypeWarning: Columns (15) have mixed types. Specify dtype option on import or set low_memory=False.\n",
      "  for chunk in pd.read_csv(\"beatport_complete_data.csv\", chunksize=100000):\n"
     ]
    },
    {
     "name": "stdout",
     "output_type": "stream",
     "text": [
      "Processing chunk 54...\n",
      "Processing chunk 55...\n"
     ]
    },
    {
     "name": "stderr",
     "output_type": "stream",
     "text": [
      "C:\\Users\\olivi\\AppData\\Local\\Temp\\ipykernel_27380\\3690345104.py:15: DtypeWarning: Columns (15,33,35,36) have mixed types. Specify dtype option on import or set low_memory=False.\n",
      "  for chunk in pd.read_csv(\"beatport_complete_data.csv\", chunksize=100000):\n"
     ]
    },
    {
     "name": "stdout",
     "output_type": "stream",
     "text": [
      "Processing chunk 56...\n",
      "Created new file for genre: Progressive House\n"
     ]
    },
    {
     "name": "stderr",
     "output_type": "stream",
     "text": [
      "C:\\Users\\olivi\\AppData\\Local\\Temp\\ipykernel_27380\\3690345104.py:15: DtypeWarning: Columns (15,33,35,36) have mixed types. Specify dtype option on import or set low_memory=False.\n",
      "  for chunk in pd.read_csv(\"beatport_complete_data.csv\", chunksize=100000):\n"
     ]
    },
    {
     "name": "stdout",
     "output_type": "stream",
     "text": [
      "Processing chunk 57...\n",
      "Created new file for genre: Trap / Wave\n",
      "Created new file for genre: Mainstage\n"
     ]
    },
    {
     "name": "stderr",
     "output_type": "stream",
     "text": [
      "C:\\Users\\olivi\\AppData\\Local\\Temp\\ipykernel_27380\\3690345104.py:15: DtypeWarning: Columns (15) have mixed types. Specify dtype option on import or set low_memory=False.\n",
      "  for chunk in pd.read_csv(\"beatport_complete_data.csv\", chunksize=100000):\n"
     ]
    },
    {
     "name": "stdout",
     "output_type": "stream",
     "text": [
      "Processing chunk 58...\n"
     ]
    },
    {
     "name": "stderr",
     "output_type": "stream",
     "text": [
      "C:\\Users\\olivi\\AppData\\Local\\Temp\\ipykernel_27380\\3690345104.py:15: DtypeWarning: Columns (15,33,35,36) have mixed types. Specify dtype option on import or set low_memory=False.\n",
      "  for chunk in pd.read_csv(\"beatport_complete_data.csv\", chunksize=100000):\n"
     ]
    },
    {
     "name": "stdout",
     "output_type": "stream",
     "text": [
      "Processing chunk 59...\n",
      "Created new file for genre: Electronica\n"
     ]
    },
    {
     "name": "stderr",
     "output_type": "stream",
     "text": [
      "C:\\Users\\olivi\\AppData\\Local\\Temp\\ipykernel_27380\\3690345104.py:15: DtypeWarning: Columns (15) have mixed types. Specify dtype option on import or set low_memory=False.\n",
      "  for chunk in pd.read_csv(\"beatport_complete_data.csv\", chunksize=100000):\n"
     ]
    },
    {
     "name": "stdout",
     "output_type": "stream",
     "text": [
      "Processing chunk 60...\n",
      "Processing chunk 61...\n"
     ]
    },
    {
     "name": "stderr",
     "output_type": "stream",
     "text": [
      "C:\\Users\\olivi\\AppData\\Local\\Temp\\ipykernel_27380\\3690345104.py:15: DtypeWarning: Columns (15) have mixed types. Specify dtype option on import or set low_memory=False.\n",
      "  for chunk in pd.read_csv(\"beatport_complete_data.csv\", chunksize=100000):\n"
     ]
    },
    {
     "name": "stdout",
     "output_type": "stream",
     "text": [
      "Processing chunk 62...\n"
     ]
    },
    {
     "name": "stderr",
     "output_type": "stream",
     "text": [
      "C:\\Users\\olivi\\AppData\\Local\\Temp\\ipykernel_27380\\3690345104.py:15: DtypeWarning: Columns (15) have mixed types. Specify dtype option on import or set low_memory=False.\n",
      "  for chunk in pd.read_csv(\"beatport_complete_data.csv\", chunksize=100000):\n"
     ]
    },
    {
     "name": "stdout",
     "output_type": "stream",
     "text": [
      "Processing chunk 63...\n"
     ]
    },
    {
     "name": "stderr",
     "output_type": "stream",
     "text": [
      "C:\\Users\\olivi\\AppData\\Local\\Temp\\ipykernel_27380\\3690345104.py:15: DtypeWarning: Columns (15) have mixed types. Specify dtype option on import or set low_memory=False.\n",
      "  for chunk in pd.read_csv(\"beatport_complete_data.csv\", chunksize=100000):\n"
     ]
    },
    {
     "name": "stdout",
     "output_type": "stream",
     "text": [
      "Processing chunk 64...\n"
     ]
    },
    {
     "name": "stderr",
     "output_type": "stream",
     "text": [
      "C:\\Users\\olivi\\AppData\\Local\\Temp\\ipykernel_27380\\3690345104.py:15: DtypeWarning: Columns (15) have mixed types. Specify dtype option on import or set low_memory=False.\n",
      "  for chunk in pd.read_csv(\"beatport_complete_data.csv\", chunksize=100000):\n"
     ]
    },
    {
     "name": "stdout",
     "output_type": "stream",
     "text": [
      "Processing chunk 65...\n"
     ]
    },
    {
     "name": "stderr",
     "output_type": "stream",
     "text": [
      "C:\\Users\\olivi\\AppData\\Local\\Temp\\ipykernel_27380\\3690345104.py:15: DtypeWarning: Columns (15) have mixed types. Specify dtype option on import or set low_memory=False.\n",
      "  for chunk in pd.read_csv(\"beatport_complete_data.csv\", chunksize=100000):\n"
     ]
    },
    {
     "name": "stdout",
     "output_type": "stream",
     "text": [
      "Processing chunk 66...\n"
     ]
    },
    {
     "name": "stderr",
     "output_type": "stream",
     "text": [
      "C:\\Users\\olivi\\AppData\\Local\\Temp\\ipykernel_27380\\3690345104.py:15: DtypeWarning: Columns (15) have mixed types. Specify dtype option on import or set low_memory=False.\n",
      "  for chunk in pd.read_csv(\"beatport_complete_data.csv\", chunksize=100000):\n"
     ]
    },
    {
     "name": "stdout",
     "output_type": "stream",
     "text": [
      "Processing chunk 67...\n"
     ]
    },
    {
     "name": "stderr",
     "output_type": "stream",
     "text": [
      "C:\\Users\\olivi\\AppData\\Local\\Temp\\ipykernel_27380\\3690345104.py:15: DtypeWarning: Columns (15) have mixed types. Specify dtype option on import or set low_memory=False.\n",
      "  for chunk in pd.read_csv(\"beatport_complete_data.csv\", chunksize=100000):\n"
     ]
    },
    {
     "name": "stdout",
     "output_type": "stream",
     "text": [
      "Processing chunk 68...\n"
     ]
    },
    {
     "name": "stderr",
     "output_type": "stream",
     "text": [
      "C:\\Users\\olivi\\AppData\\Local\\Temp\\ipykernel_27380\\3690345104.py:15: DtypeWarning: Columns (15) have mixed types. Specify dtype option on import or set low_memory=False.\n",
      "  for chunk in pd.read_csv(\"beatport_complete_data.csv\", chunksize=100000):\n"
     ]
    },
    {
     "name": "stdout",
     "output_type": "stream",
     "text": [
      "Processing chunk 69...\n"
     ]
    },
    {
     "name": "stderr",
     "output_type": "stream",
     "text": [
      "C:\\Users\\olivi\\AppData\\Local\\Temp\\ipykernel_27380\\3690345104.py:15: DtypeWarning: Columns (15) have mixed types. Specify dtype option on import or set low_memory=False.\n",
      "  for chunk in pd.read_csv(\"beatport_complete_data.csv\", chunksize=100000):\n"
     ]
    },
    {
     "name": "stdout",
     "output_type": "stream",
     "text": [
      "Processing chunk 70...\n"
     ]
    },
    {
     "name": "stderr",
     "output_type": "stream",
     "text": [
      "C:\\Users\\olivi\\AppData\\Local\\Temp\\ipykernel_27380\\3690345104.py:15: DtypeWarning: Columns (15) have mixed types. Specify dtype option on import or set low_memory=False.\n",
      "  for chunk in pd.read_csv(\"beatport_complete_data.csv\", chunksize=100000):\n"
     ]
    },
    {
     "name": "stdout",
     "output_type": "stream",
     "text": [
      "Processing chunk 71...\n"
     ]
    },
    {
     "name": "stderr",
     "output_type": "stream",
     "text": [
      "C:\\Users\\olivi\\AppData\\Local\\Temp\\ipykernel_27380\\3690345104.py:15: DtypeWarning: Columns (15) have mixed types. Specify dtype option on import or set low_memory=False.\n",
      "  for chunk in pd.read_csv(\"beatport_complete_data.csv\", chunksize=100000):\n"
     ]
    },
    {
     "name": "stdout",
     "output_type": "stream",
     "text": [
      "Processing chunk 72...\n"
     ]
    },
    {
     "name": "stderr",
     "output_type": "stream",
     "text": [
      "C:\\Users\\olivi\\AppData\\Local\\Temp\\ipykernel_27380\\3690345104.py:15: DtypeWarning: Columns (15) have mixed types. Specify dtype option on import or set low_memory=False.\n",
      "  for chunk in pd.read_csv(\"beatport_complete_data.csv\", chunksize=100000):\n"
     ]
    },
    {
     "name": "stdout",
     "output_type": "stream",
     "text": [
      "Processing chunk 73...\n"
     ]
    },
    {
     "name": "stderr",
     "output_type": "stream",
     "text": [
      "C:\\Users\\olivi\\AppData\\Local\\Temp\\ipykernel_27380\\3690345104.py:15: DtypeWarning: Columns (15) have mixed types. Specify dtype option on import or set low_memory=False.\n",
      "  for chunk in pd.read_csv(\"beatport_complete_data.csv\", chunksize=100000):\n"
     ]
    },
    {
     "name": "stdout",
     "output_type": "stream",
     "text": [
      "Processing chunk 74...\n"
     ]
    },
    {
     "name": "stderr",
     "output_type": "stream",
     "text": [
      "C:\\Users\\olivi\\AppData\\Local\\Temp\\ipykernel_27380\\3690345104.py:15: DtypeWarning: Columns (15) have mixed types. Specify dtype option on import or set low_memory=False.\n",
      "  for chunk in pd.read_csv(\"beatport_complete_data.csv\", chunksize=100000):\n"
     ]
    },
    {
     "name": "stdout",
     "output_type": "stream",
     "text": [
      "Processing chunk 75...\n"
     ]
    },
    {
     "name": "stderr",
     "output_type": "stream",
     "text": [
      "C:\\Users\\olivi\\AppData\\Local\\Temp\\ipykernel_27380\\3690345104.py:15: DtypeWarning: Columns (15) have mixed types. Specify dtype option on import or set low_memory=False.\n",
      "  for chunk in pd.read_csv(\"beatport_complete_data.csv\", chunksize=100000):\n"
     ]
    },
    {
     "name": "stdout",
     "output_type": "stream",
     "text": [
      "Processing chunk 76...\n",
      "Processing chunk 77...\n"
     ]
    },
    {
     "name": "stderr",
     "output_type": "stream",
     "text": [
      "C:\\Users\\olivi\\AppData\\Local\\Temp\\ipykernel_27380\\3690345104.py:15: DtypeWarning: Columns (15) have mixed types. Specify dtype option on import or set low_memory=False.\n",
      "  for chunk in pd.read_csv(\"beatport_complete_data.csv\", chunksize=100000):\n"
     ]
    },
    {
     "name": "stdout",
     "output_type": "stream",
     "text": [
      "Processing chunk 78...\n",
      "Processing chunk 79...\n"
     ]
    },
    {
     "name": "stderr",
     "output_type": "stream",
     "text": [
      "C:\\Users\\olivi\\AppData\\Local\\Temp\\ipykernel_27380\\3690345104.py:15: DtypeWarning: Columns (15) have mixed types. Specify dtype option on import or set low_memory=False.\n",
      "  for chunk in pd.read_csv(\"beatport_complete_data.csv\", chunksize=100000):\n"
     ]
    },
    {
     "name": "stdout",
     "output_type": "stream",
     "text": [
      "Processing chunk 80...\n",
      "Processing chunk 81...\n",
      "Processing chunk 82...\n",
      "Processing chunk 83...\n",
      "Processing chunk 84...\n",
      "Processing chunk 85...\n",
      "Processing chunk 86...\n",
      "Processing chunk 87...\n"
     ]
    },
    {
     "name": "stderr",
     "output_type": "stream",
     "text": [
      "C:\\Users\\olivi\\AppData\\Local\\Temp\\ipykernel_27380\\3690345104.py:15: DtypeWarning: Columns (15) have mixed types. Specify dtype option on import or set low_memory=False.\n",
      "  for chunk in pd.read_csv(\"beatport_complete_data.csv\", chunksize=100000):\n"
     ]
    },
    {
     "name": "stdout",
     "output_type": "stream",
     "text": [
      "Processing chunk 88...\n",
      "Processing chunk 89...\n"
     ]
    },
    {
     "name": "stderr",
     "output_type": "stream",
     "text": [
      "C:\\Users\\olivi\\AppData\\Local\\Temp\\ipykernel_27380\\3690345104.py:15: DtypeWarning: Columns (15) have mixed types. Specify dtype option on import or set low_memory=False.\n",
      "  for chunk in pd.read_csv(\"beatport_complete_data.csv\", chunksize=100000):\n"
     ]
    },
    {
     "name": "stdout",
     "output_type": "stream",
     "text": [
      "Processing chunk 90...\n"
     ]
    },
    {
     "name": "stderr",
     "output_type": "stream",
     "text": [
      "C:\\Users\\olivi\\AppData\\Local\\Temp\\ipykernel_27380\\3690345104.py:15: DtypeWarning: Columns (15) have mixed types. Specify dtype option on import or set low_memory=False.\n",
      "  for chunk in pd.read_csv(\"beatport_complete_data.csv\", chunksize=100000):\n"
     ]
    },
    {
     "name": "stdout",
     "output_type": "stream",
     "text": [
      "Processing chunk 91...\n"
     ]
    },
    {
     "name": "stderr",
     "output_type": "stream",
     "text": [
      "C:\\Users\\olivi\\AppData\\Local\\Temp\\ipykernel_27380\\3690345104.py:15: DtypeWarning: Columns (15) have mixed types. Specify dtype option on import or set low_memory=False.\n",
      "  for chunk in pd.read_csv(\"beatport_complete_data.csv\", chunksize=100000):\n"
     ]
    },
    {
     "name": "stdout",
     "output_type": "stream",
     "text": [
      "Processing chunk 92...\n"
     ]
    },
    {
     "name": "stderr",
     "output_type": "stream",
     "text": [
      "C:\\Users\\olivi\\AppData\\Local\\Temp\\ipykernel_27380\\3690345104.py:15: DtypeWarning: Columns (15) have mixed types. Specify dtype option on import or set low_memory=False.\n",
      "  for chunk in pd.read_csv(\"beatport_complete_data.csv\", chunksize=100000):\n"
     ]
    },
    {
     "name": "stdout",
     "output_type": "stream",
     "text": [
      "Processing chunk 93...\n"
     ]
    },
    {
     "name": "stderr",
     "output_type": "stream",
     "text": [
      "C:\\Users\\olivi\\AppData\\Local\\Temp\\ipykernel_27380\\3690345104.py:15: DtypeWarning: Columns (15) have mixed types. Specify dtype option on import or set low_memory=False.\n",
      "  for chunk in pd.read_csv(\"beatport_complete_data.csv\", chunksize=100000):\n"
     ]
    },
    {
     "name": "stdout",
     "output_type": "stream",
     "text": [
      "Processing chunk 94...\n"
     ]
    },
    {
     "name": "stderr",
     "output_type": "stream",
     "text": [
      "C:\\Users\\olivi\\AppData\\Local\\Temp\\ipykernel_27380\\3690345104.py:15: DtypeWarning: Columns (15) have mixed types. Specify dtype option on import or set low_memory=False.\n",
      "  for chunk in pd.read_csv(\"beatport_complete_data.csv\", chunksize=100000):\n"
     ]
    },
    {
     "name": "stdout",
     "output_type": "stream",
     "text": [
      "Processing chunk 95...\n",
      "Created new file for genre: Trance (Main Floor)\n",
      "Processing chunk 96...\n"
     ]
    },
    {
     "name": "stderr",
     "output_type": "stream",
     "text": [
      "C:\\Users\\olivi\\AppData\\Local\\Temp\\ipykernel_27380\\3690345104.py:15: DtypeWarning: Columns (15) have mixed types. Specify dtype option on import or set low_memory=False.\n",
      "  for chunk in pd.read_csv(\"beatport_complete_data.csv\", chunksize=100000):\n"
     ]
    },
    {
     "name": "stdout",
     "output_type": "stream",
     "text": [
      "Processing chunk 97...\n"
     ]
    },
    {
     "name": "stderr",
     "output_type": "stream",
     "text": [
      "C:\\Users\\olivi\\AppData\\Local\\Temp\\ipykernel_27380\\3690345104.py:15: DtypeWarning: Columns (15) have mixed types. Specify dtype option on import or set low_memory=False.\n",
      "  for chunk in pd.read_csv(\"beatport_complete_data.csv\", chunksize=100000):\n"
     ]
    },
    {
     "name": "stdout",
     "output_type": "stream",
     "text": [
      "Processing chunk 98...\n"
     ]
    },
    {
     "name": "stderr",
     "output_type": "stream",
     "text": [
      "C:\\Users\\olivi\\AppData\\Local\\Temp\\ipykernel_27380\\3690345104.py:15: DtypeWarning: Columns (15) have mixed types. Specify dtype option on import or set low_memory=False.\n",
      "  for chunk in pd.read_csv(\"beatport_complete_data.csv\", chunksize=100000):\n"
     ]
    },
    {
     "name": "stdout",
     "output_type": "stream",
     "text": [
      "Processing chunk 99...\n",
      "Processing chunk 100...\n",
      "Processing chunk 101...\n",
      "Processing chunk 102...\n"
     ]
    },
    {
     "name": "stderr",
     "output_type": "stream",
     "text": [
      "C:\\Users\\olivi\\AppData\\Local\\Temp\\ipykernel_27380\\3690345104.py:15: DtypeWarning: Columns (15) have mixed types. Specify dtype option on import or set low_memory=False.\n",
      "  for chunk in pd.read_csv(\"beatport_complete_data.csv\", chunksize=100000):\n"
     ]
    },
    {
     "name": "stdout",
     "output_type": "stream",
     "text": [
      "Processing chunk 103...\n"
     ]
    },
    {
     "name": "stderr",
     "output_type": "stream",
     "text": [
      "C:\\Users\\olivi\\AppData\\Local\\Temp\\ipykernel_27380\\3690345104.py:15: DtypeWarning: Columns (15) have mixed types. Specify dtype option on import or set low_memory=False.\n",
      "  for chunk in pd.read_csv(\"beatport_complete_data.csv\", chunksize=100000):\n"
     ]
    },
    {
     "name": "stdout",
     "output_type": "stream",
     "text": [
      "Processing chunk 104...\n"
     ]
    },
    {
     "name": "stderr",
     "output_type": "stream",
     "text": [
      "C:\\Users\\olivi\\AppData\\Local\\Temp\\ipykernel_27380\\3690345104.py:15: DtypeWarning: Columns (15) have mixed types. Specify dtype option on import or set low_memory=False.\n",
      "  for chunk in pd.read_csv(\"beatport_complete_data.csv\", chunksize=100000):\n"
     ]
    },
    {
     "name": "stdout",
     "output_type": "stream",
     "text": [
      "Processing chunk 105...\n"
     ]
    },
    {
     "name": "stderr",
     "output_type": "stream",
     "text": [
      "C:\\Users\\olivi\\AppData\\Local\\Temp\\ipykernel_27380\\3690345104.py:15: DtypeWarning: Columns (15) have mixed types. Specify dtype option on import or set low_memory=False.\n",
      "  for chunk in pd.read_csv(\"beatport_complete_data.csv\", chunksize=100000):\n"
     ]
    },
    {
     "name": "stdout",
     "output_type": "stream",
     "text": [
      "Processing chunk 106...\n"
     ]
    },
    {
     "name": "stderr",
     "output_type": "stream",
     "text": [
      "C:\\Users\\olivi\\AppData\\Local\\Temp\\ipykernel_27380\\3690345104.py:15: DtypeWarning: Columns (15) have mixed types. Specify dtype option on import or set low_memory=False.\n",
      "  for chunk in pd.read_csv(\"beatport_complete_data.csv\", chunksize=100000):\n"
     ]
    },
    {
     "name": "stdout",
     "output_type": "stream",
     "text": [
      "Processing chunk 107...\n"
     ]
    },
    {
     "name": "stderr",
     "output_type": "stream",
     "text": [
      "C:\\Users\\olivi\\AppData\\Local\\Temp\\ipykernel_27380\\3690345104.py:15: DtypeWarning: Columns (15) have mixed types. Specify dtype option on import or set low_memory=False.\n",
      "  for chunk in pd.read_csv(\"beatport_complete_data.csv\", chunksize=100000):\n"
     ]
    },
    {
     "name": "stdout",
     "output_type": "stream",
     "text": [
      "Processing chunk 108...\n"
     ]
    },
    {
     "name": "stderr",
     "output_type": "stream",
     "text": [
      "C:\\Users\\olivi\\AppData\\Local\\Temp\\ipykernel_27380\\3690345104.py:15: DtypeWarning: Columns (15) have mixed types. Specify dtype option on import or set low_memory=False.\n",
      "  for chunk in pd.read_csv(\"beatport_complete_data.csv\", chunksize=100000):\n"
     ]
    },
    {
     "name": "stdout",
     "output_type": "stream",
     "text": [
      "Processing chunk 109...\n",
      "Created new file for genre: Minimal / Deep Tech\n"
     ]
    },
    {
     "name": "stderr",
     "output_type": "stream",
     "text": [
      "C:\\Users\\olivi\\AppData\\Local\\Temp\\ipykernel_27380\\3690345104.py:15: DtypeWarning: Columns (15) have mixed types. Specify dtype option on import or set low_memory=False.\n",
      "  for chunk in pd.read_csv(\"beatport_complete_data.csv\", chunksize=100000):\n"
     ]
    },
    {
     "name": "stdout",
     "output_type": "stream",
     "text": [
      "Processing chunk 110...\n"
     ]
    },
    {
     "name": "stderr",
     "output_type": "stream",
     "text": [
      "C:\\Users\\olivi\\AppData\\Local\\Temp\\ipykernel_27380\\3690345104.py:15: DtypeWarning: Columns (15) have mixed types. Specify dtype option on import or set low_memory=False.\n",
      "  for chunk in pd.read_csv(\"beatport_complete_data.csv\", chunksize=100000):\n"
     ]
    },
    {
     "name": "stdout",
     "output_type": "stream",
     "text": [
      "Processing chunk 111...\n"
     ]
    },
    {
     "name": "stderr",
     "output_type": "stream",
     "text": [
      "C:\\Users\\olivi\\AppData\\Local\\Temp\\ipykernel_27380\\3690345104.py:15: DtypeWarning: Columns (15) have mixed types. Specify dtype option on import or set low_memory=False.\n",
      "  for chunk in pd.read_csv(\"beatport_complete_data.csv\", chunksize=100000):\n"
     ]
    },
    {
     "name": "stdout",
     "output_type": "stream",
     "text": [
      "Processing chunk 112...\n",
      "Created new file for genre: Dance / Electro Pop\n",
      "Processing chunk 113...\n",
      "Processing chunk 114...\n"
     ]
    },
    {
     "name": "stderr",
     "output_type": "stream",
     "text": [
      "C:\\Users\\olivi\\AppData\\Local\\Temp\\ipykernel_27380\\3690345104.py:15: DtypeWarning: Columns (15) have mixed types. Specify dtype option on import or set low_memory=False.\n",
      "  for chunk in pd.read_csv(\"beatport_complete_data.csv\", chunksize=100000):\n"
     ]
    },
    {
     "name": "stdout",
     "output_type": "stream",
     "text": [
      "Processing chunk 115...\n",
      "Processing chunk 116...\n"
     ]
    },
    {
     "name": "stderr",
     "output_type": "stream",
     "text": [
      "C:\\Users\\olivi\\AppData\\Local\\Temp\\ipykernel_27380\\3690345104.py:15: DtypeWarning: Columns (15) have mixed types. Specify dtype option on import or set low_memory=False.\n",
      "  for chunk in pd.read_csv(\"beatport_complete_data.csv\", chunksize=100000):\n"
     ]
    },
    {
     "name": "stdout",
     "output_type": "stream",
     "text": [
      "Processing chunk 117...\n"
     ]
    },
    {
     "name": "stderr",
     "output_type": "stream",
     "text": [
      "C:\\Users\\olivi\\AppData\\Local\\Temp\\ipykernel_27380\\3690345104.py:15: DtypeWarning: Columns (15) have mixed types. Specify dtype option on import or set low_memory=False.\n",
      "  for chunk in pd.read_csv(\"beatport_complete_data.csv\", chunksize=100000):\n"
     ]
    },
    {
     "name": "stdout",
     "output_type": "stream",
     "text": [
      "Processing chunk 118...\n"
     ]
    },
    {
     "name": "stderr",
     "output_type": "stream",
     "text": [
      "C:\\Users\\olivi\\AppData\\Local\\Temp\\ipykernel_27380\\3690345104.py:15: DtypeWarning: Columns (15) have mixed types. Specify dtype option on import or set low_memory=False.\n",
      "  for chunk in pd.read_csv(\"beatport_complete_data.csv\", chunksize=100000):\n"
     ]
    },
    {
     "name": "stdout",
     "output_type": "stream",
     "text": [
      "Processing chunk 119...\n"
     ]
    },
    {
     "name": "stderr",
     "output_type": "stream",
     "text": [
      "C:\\Users\\olivi\\AppData\\Local\\Temp\\ipykernel_27380\\3690345104.py:15: DtypeWarning: Columns (15) have mixed types. Specify dtype option on import or set low_memory=False.\n",
      "  for chunk in pd.read_csv(\"beatport_complete_data.csv\", chunksize=100000):\n"
     ]
    },
    {
     "name": "stdout",
     "output_type": "stream",
     "text": [
      "Processing chunk 120...\n"
     ]
    },
    {
     "name": "stderr",
     "output_type": "stream",
     "text": [
      "C:\\Users\\olivi\\AppData\\Local\\Temp\\ipykernel_27380\\3690345104.py:15: DtypeWarning: Columns (15) have mixed types. Specify dtype option on import or set low_memory=False.\n",
      "  for chunk in pd.read_csv(\"beatport_complete_data.csv\", chunksize=100000):\n"
     ]
    },
    {
     "name": "stdout",
     "output_type": "stream",
     "text": [
      "Processing chunk 121...\n"
     ]
    },
    {
     "name": "stderr",
     "output_type": "stream",
     "text": [
      "C:\\Users\\olivi\\AppData\\Local\\Temp\\ipykernel_27380\\3690345104.py:15: DtypeWarning: Columns (15) have mixed types. Specify dtype option on import or set low_memory=False.\n",
      "  for chunk in pd.read_csv(\"beatport_complete_data.csv\", chunksize=100000):\n"
     ]
    },
    {
     "name": "stdout",
     "output_type": "stream",
     "text": [
      "Processing chunk 122...\n"
     ]
    },
    {
     "name": "stderr",
     "output_type": "stream",
     "text": [
      "C:\\Users\\olivi\\AppData\\Local\\Temp\\ipykernel_27380\\3690345104.py:15: DtypeWarning: Columns (15) have mixed types. Specify dtype option on import or set low_memory=False.\n",
      "  for chunk in pd.read_csv(\"beatport_complete_data.csv\", chunksize=100000):\n"
     ]
    },
    {
     "name": "stdout",
     "output_type": "stream",
     "text": [
      "Processing chunk 123...\n"
     ]
    },
    {
     "name": "stderr",
     "output_type": "stream",
     "text": [
      "C:\\Users\\olivi\\AppData\\Local\\Temp\\ipykernel_27380\\3690345104.py:15: DtypeWarning: Columns (15,33,35,36) have mixed types. Specify dtype option on import or set low_memory=False.\n",
      "  for chunk in pd.read_csv(\"beatport_complete_data.csv\", chunksize=100000):\n"
     ]
    },
    {
     "name": "stdout",
     "output_type": "stream",
     "text": [
      "Processing chunk 124...\n"
     ]
    },
    {
     "name": "stderr",
     "output_type": "stream",
     "text": [
      "C:\\Users\\olivi\\AppData\\Local\\Temp\\ipykernel_27380\\3690345104.py:15: DtypeWarning: Columns (15) have mixed types. Specify dtype option on import or set low_memory=False.\n",
      "  for chunk in pd.read_csv(\"beatport_complete_data.csv\", chunksize=100000):\n"
     ]
    },
    {
     "name": "stdout",
     "output_type": "stream",
     "text": [
      "Processing chunk 125...\n"
     ]
    },
    {
     "name": "stderr",
     "output_type": "stream",
     "text": [
      "C:\\Users\\olivi\\AppData\\Local\\Temp\\ipykernel_27380\\3690345104.py:15: DtypeWarning: Columns (15,33,35,36) have mixed types. Specify dtype option on import or set low_memory=False.\n",
      "  for chunk in pd.read_csv(\"beatport_complete_data.csv\", chunksize=100000):\n"
     ]
    },
    {
     "name": "stdout",
     "output_type": "stream",
     "text": [
      "Processing chunk 126...\n"
     ]
    },
    {
     "name": "stderr",
     "output_type": "stream",
     "text": [
      "C:\\Users\\olivi\\AppData\\Local\\Temp\\ipykernel_27380\\3690345104.py:15: DtypeWarning: Columns (15) have mixed types. Specify dtype option on import or set low_memory=False.\n",
      "  for chunk in pd.read_csv(\"beatport_complete_data.csv\", chunksize=100000):\n"
     ]
    },
    {
     "name": "stdout",
     "output_type": "stream",
     "text": [
      "Processing chunk 127...\n"
     ]
    },
    {
     "name": "stderr",
     "output_type": "stream",
     "text": [
      "C:\\Users\\olivi\\AppData\\Local\\Temp\\ipykernel_27380\\3690345104.py:15: DtypeWarning: Columns (33,35,36) have mixed types. Specify dtype option on import or set low_memory=False.\n",
      "  for chunk in pd.read_csv(\"beatport_complete_data.csv\", chunksize=100000):\n"
     ]
    },
    {
     "name": "stdout",
     "output_type": "stream",
     "text": [
      "Processing chunk 128...\n"
     ]
    },
    {
     "name": "stderr",
     "output_type": "stream",
     "text": [
      "C:\\Users\\olivi\\AppData\\Local\\Temp\\ipykernel_27380\\3690345104.py:15: DtypeWarning: Columns (33,35,36) have mixed types. Specify dtype option on import or set low_memory=False.\n",
      "  for chunk in pd.read_csv(\"beatport_complete_data.csv\", chunksize=100000):\n"
     ]
    },
    {
     "name": "stdout",
     "output_type": "stream",
     "text": [
      "Processing chunk 129...\n",
      "Processing chunk 130...\n",
      "Processing chunk 131...\n",
      "Processing chunk 132...\n",
      "Processing chunk 133...\n",
      "Processing chunk 134...\n",
      "Processing chunk 135...\n",
      "Processing chunk 136...\n",
      "Processing chunk 137...\n",
      "Processing chunk 138...\n",
      "Processing chunk 139...\n",
      "Processing chunk 140...\n",
      "Processing chunk 141...\n",
      "Processing chunk 142...\n",
      "Processing chunk 143...\n",
      "Processing chunk 144...\n",
      "Processing chunk 145...\n",
      "Processing chunk 146...\n",
      "Processing chunk 147...\n",
      "Processing chunk 148...\n",
      "Processing chunk 149...\n",
      "Processing chunk 150...\n",
      "Processing chunk 151...\n",
      "Processing chunk 152...\n",
      "Processing chunk 153...\n"
     ]
    },
    {
     "name": "stderr",
     "output_type": "stream",
     "text": [
      "C:\\Users\\olivi\\AppData\\Local\\Temp\\ipykernel_27380\\3690345104.py:15: DtypeWarning: Columns (33,35,36) have mixed types. Specify dtype option on import or set low_memory=False.\n",
      "  for chunk in pd.read_csv(\"beatport_complete_data.csv\", chunksize=100000):\n"
     ]
    },
    {
     "name": "stdout",
     "output_type": "stream",
     "text": [
      "Processing chunk 154...\n"
     ]
    },
    {
     "name": "stderr",
     "output_type": "stream",
     "text": [
      "C:\\Users\\olivi\\AppData\\Local\\Temp\\ipykernel_27380\\3690345104.py:15: DtypeWarning: Columns (33,35,36) have mixed types. Specify dtype option on import or set low_memory=False.\n",
      "  for chunk in pd.read_csv(\"beatport_complete_data.csv\", chunksize=100000):\n"
     ]
    },
    {
     "name": "stdout",
     "output_type": "stream",
     "text": [
      "Processing chunk 155...\n",
      "Processing chunk 156...\n",
      "Processing chunk 157...\n",
      "Processing chunk 158...\n",
      "Processing chunk 159...\n",
      "Processing chunk 160...\n",
      "Processing chunk 161...\n",
      "Processing chunk 162...\n",
      "Processing chunk 163...\n",
      "Processing chunk 164...\n",
      "Processing chunk 165...\n",
      "Processing chunk 166...\n",
      "Processing chunk 167...\n",
      "Processing chunk 168...\n",
      "Processing chunk 169...\n",
      "Processing chunk 170...\n",
      "Processing chunk 171...\n",
      "Processing chunk 172...\n",
      "Processing chunk 173...\n",
      "Processing chunk 174...\n",
      "Processing chunk 175...\n",
      "Processing chunk 176...\n",
      "Processing chunk 177...\n",
      "Processing chunk 178...\n",
      "Processing chunk 179...\n",
      "Processing chunk 180...\n",
      "Processing chunk 181...\n",
      "Processing chunk 182...\n",
      "Processing chunk 183...\n",
      "Processing chunk 184...\n",
      "Processing chunk 185...\n"
     ]
    },
    {
     "name": "stderr",
     "output_type": "stream",
     "text": [
      "C:\\Users\\olivi\\AppData\\Local\\Temp\\ipykernel_27380\\3690345104.py:15: DtypeWarning: Columns (33,35,36) have mixed types. Specify dtype option on import or set low_memory=False.\n",
      "  for chunk in pd.read_csv(\"beatport_complete_data.csv\", chunksize=100000):\n"
     ]
    },
    {
     "name": "stdout",
     "output_type": "stream",
     "text": [
      "Processing chunk 186...\n",
      "Processing chunk 187...\n"
     ]
    },
    {
     "name": "stderr",
     "output_type": "stream",
     "text": [
      "C:\\Users\\olivi\\AppData\\Local\\Temp\\ipykernel_27380\\3690345104.py:15: DtypeWarning: Columns (33,35,36) have mixed types. Specify dtype option on import or set low_memory=False.\n",
      "  for chunk in pd.read_csv(\"beatport_complete_data.csv\", chunksize=100000):\n"
     ]
    },
    {
     "name": "stdout",
     "output_type": "stream",
     "text": [
      "Processing chunk 188...\n",
      "Processing chunk 189...\n",
      "Processing chunk 190...\n",
      "Processing chunk 191...\n",
      "Processing chunk 192...\n",
      "Processing chunk 193...\n",
      "Processing chunk 194...\n",
      "Processing chunk 195...\n",
      "Processing chunk 196...\n",
      "Processing chunk 197...\n",
      "Processing chunk 198...\n",
      "Processing chunk 199...\n",
      "Processing chunk 200...\n",
      "Processing chunk 201...\n",
      "Processing chunk 202...\n",
      "Processing chunk 203...\n",
      "Processing chunk 204...\n",
      "Processing chunk 205...\n",
      "Processing chunk 206...\n",
      "Processing chunk 207...\n",
      "Processing chunk 208...\n",
      "Processing chunk 209...\n",
      "Processing chunk 210...\n",
      "Processing chunk 211...\n",
      "Processing chunk 212...\n",
      "Processing chunk 213...\n"
     ]
    },
    {
     "name": "stderr",
     "output_type": "stream",
     "text": [
      "C:\\Users\\olivi\\AppData\\Local\\Temp\\ipykernel_27380\\3690345104.py:15: DtypeWarning: Columns (33,35,36) have mixed types. Specify dtype option on import or set low_memory=False.\n",
      "  for chunk in pd.read_csv(\"beatport_complete_data.csv\", chunksize=100000):\n"
     ]
    },
    {
     "name": "stdout",
     "output_type": "stream",
     "text": [
      "Processing chunk 214...\n"
     ]
    },
    {
     "name": "stderr",
     "output_type": "stream",
     "text": [
      "C:\\Users\\olivi\\AppData\\Local\\Temp\\ipykernel_27380\\3690345104.py:15: DtypeWarning: Columns (33,35,36) have mixed types. Specify dtype option on import or set low_memory=False.\n",
      "  for chunk in pd.read_csv(\"beatport_complete_data.csv\", chunksize=100000):\n"
     ]
    },
    {
     "name": "stdout",
     "output_type": "stream",
     "text": [
      "Processing chunk 215...\n",
      "Processing chunk 216...\n",
      "Processing chunk 217...\n",
      "Processing chunk 218...\n",
      "Processing chunk 219...\n",
      "Processing chunk 220...\n",
      "Processing chunk 221...\n",
      "Processing chunk 222...\n",
      "Processing chunk 223...\n",
      "Processing chunk 224...\n",
      "Processing chunk 225...\n",
      "Processing chunk 226...\n",
      "Processing chunk 227...\n",
      "Processing chunk 228...\n",
      "Processing chunk 229...\n",
      "Processing chunk 230...\n",
      "Processing chunk 231...\n",
      "Processing chunk 232...\n",
      "Processing chunk 233...\n",
      "Processing chunk 234...\n",
      "Processing chunk 235...\n",
      "Processing chunk 236...\n",
      "Processing chunk 237...\n",
      "Processing chunk 238...\n",
      "Processing chunk 239...\n",
      "Processing chunk 240...\n",
      "Processing chunk 241...\n",
      "Processing chunk 242...\n",
      "Processing chunk 243...\n",
      "Processing chunk 244...\n",
      "Processing chunk 245...\n",
      "Processing chunk 246...\n"
     ]
    },
    {
     "name": "stderr",
     "output_type": "stream",
     "text": [
      "C:\\Users\\olivi\\AppData\\Local\\Temp\\ipykernel_27380\\3690345104.py:15: DtypeWarning: Columns (33,35,36) have mixed types. Specify dtype option on import or set low_memory=False.\n",
      "  for chunk in pd.read_csv(\"beatport_complete_data.csv\", chunksize=100000):\n"
     ]
    },
    {
     "name": "stdout",
     "output_type": "stream",
     "text": [
      "Processing chunk 247...\n",
      "Processing chunk 248...\n",
      "Processing chunk 249...\n"
     ]
    },
    {
     "name": "stderr",
     "output_type": "stream",
     "text": [
      "C:\\Users\\olivi\\AppData\\Local\\Temp\\ipykernel_27380\\3690345104.py:15: DtypeWarning: Columns (33,35,36) have mixed types. Specify dtype option on import or set low_memory=False.\n",
      "  for chunk in pd.read_csv(\"beatport_complete_data.csv\", chunksize=100000):\n"
     ]
    },
    {
     "name": "stdout",
     "output_type": "stream",
     "text": [
      "Processing chunk 250...\n",
      "Processing chunk 251...\n",
      "Processing chunk 252...\n",
      "Processing chunk 253...\n",
      "Processing chunk 254...\n",
      "Processing chunk 255...\n",
      "Processing chunk 256...\n",
      "Processing chunk 257...\n",
      "Processing chunk 258...\n",
      "Processing chunk 259...\n",
      "Processing chunk 260...\n",
      "Processing chunk 261...\n",
      "Processing chunk 262...\n",
      "Processing chunk 263...\n",
      "Processing chunk 264...\n",
      "Processing chunk 265...\n",
      "Processing chunk 266...\n",
      "Processing chunk 267...\n",
      "Processing chunk 268...\n",
      "Processing chunk 269...\n",
      "Processing chunk 270...\n",
      "Processing chunk 271...\n",
      "Processing chunk 272...\n",
      "Processing chunk 273...\n",
      "Processing chunk 274...\n"
     ]
    },
    {
     "name": "stderr",
     "output_type": "stream",
     "text": [
      "C:\\Users\\olivi\\AppData\\Local\\Temp\\ipykernel_27380\\3690345104.py:15: DtypeWarning: Columns (33,35,36) have mixed types. Specify dtype option on import or set low_memory=False.\n",
      "  for chunk in pd.read_csv(\"beatport_complete_data.csv\", chunksize=100000):\n"
     ]
    },
    {
     "name": "stdout",
     "output_type": "stream",
     "text": [
      "Processing chunk 275...\n"
     ]
    },
    {
     "name": "stderr",
     "output_type": "stream",
     "text": [
      "C:\\Users\\olivi\\AppData\\Local\\Temp\\ipykernel_27380\\3690345104.py:15: DtypeWarning: Columns (33,35,36) have mixed types. Specify dtype option on import or set low_memory=False.\n",
      "  for chunk in pd.read_csv(\"beatport_complete_data.csv\", chunksize=100000):\n"
     ]
    },
    {
     "name": "stdout",
     "output_type": "stream",
     "text": [
      "Processing chunk 276...\n",
      "Processing chunk 277...\n",
      "Processing chunk 278...\n",
      "Processing chunk 279...\n",
      "Processing chunk 280...\n",
      "Processing chunk 281...\n",
      "Processing chunk 282...\n",
      "Processing chunk 283...\n",
      "Processing chunk 284...\n",
      "Processing chunk 285...\n",
      "Processing chunk 286...\n",
      "Processing chunk 287...\n",
      "Processing chunk 288...\n",
      "Processing chunk 289...\n",
      "Processing chunk 290...\n",
      "Processing chunk 291...\n",
      "Processing chunk 292...\n",
      "Processing chunk 293...\n",
      "Processing chunk 294...\n",
      "Processing chunk 295...\n",
      "Processing chunk 296...\n",
      "Processing chunk 297...\n",
      "Processing chunk 298...\n",
      "Processing chunk 299...\n",
      "Processing chunk 300...\n",
      "Processing chunk 301...\n",
      "Processing chunk 302...\n",
      "Processing chunk 303...\n",
      "Processing chunk 304...\n",
      "Processing chunk 305...\n",
      "Processing chunk 306...\n"
     ]
    },
    {
     "name": "stderr",
     "output_type": "stream",
     "text": [
      "C:\\Users\\olivi\\AppData\\Local\\Temp\\ipykernel_27380\\3690345104.py:15: DtypeWarning: Columns (33,35,36) have mixed types. Specify dtype option on import or set low_memory=False.\n",
      "  for chunk in pd.read_csv(\"beatport_complete_data.csv\", chunksize=100000):\n"
     ]
    },
    {
     "name": "stdout",
     "output_type": "stream",
     "text": [
      "Processing chunk 307...\n",
      "Processing chunk 308...\n"
     ]
    },
    {
     "name": "stderr",
     "output_type": "stream",
     "text": [
      "C:\\Users\\olivi\\AppData\\Local\\Temp\\ipykernel_27380\\3690345104.py:15: DtypeWarning: Columns (33,35,36) have mixed types. Specify dtype option on import or set low_memory=False.\n",
      "  for chunk in pd.read_csv(\"beatport_complete_data.csv\", chunksize=100000):\n"
     ]
    },
    {
     "name": "stdout",
     "output_type": "stream",
     "text": [
      "Processing chunk 309...\n"
     ]
    },
    {
     "name": "stderr",
     "output_type": "stream",
     "text": [
      "C:\\Users\\olivi\\AppData\\Local\\Temp\\ipykernel_27380\\3690345104.py:15: DtypeWarning: Columns (33,35,36) have mixed types. Specify dtype option on import or set low_memory=False.\n",
      "  for chunk in pd.read_csv(\"beatport_complete_data.csv\", chunksize=100000):\n"
     ]
    },
    {
     "name": "stdout",
     "output_type": "stream",
     "text": [
      "Processing chunk 310...\n",
      "Processing chunk 311...\n",
      "Processing chunk 312...\n",
      "Processing chunk 313...\n",
      "Processing chunk 314...\n",
      "Processing chunk 315...\n",
      "Processing chunk 316...\n",
      "Processing chunk 317...\n",
      "Processing chunk 318...\n",
      "Processing chunk 319...\n",
      "Processing chunk 320...\n",
      "Processing chunk 321...\n",
      "Processing chunk 322...\n",
      "Processing chunk 323...\n",
      "Processing chunk 324...\n",
      "Processing chunk 325...\n",
      "Processing chunk 326...\n",
      "Processing chunk 327...\n",
      "Processing chunk 328...\n",
      "Processing chunk 329...\n",
      "Processing chunk 330...\n",
      "Processing chunk 331...\n",
      "Processing chunk 332...\n",
      "Processing chunk 333...\n",
      "Processing chunk 334...\n"
     ]
    },
    {
     "name": "stderr",
     "output_type": "stream",
     "text": [
      "C:\\Users\\olivi\\AppData\\Local\\Temp\\ipykernel_27380\\3690345104.py:15: DtypeWarning: Columns (33,35,36) have mixed types. Specify dtype option on import or set low_memory=False.\n",
      "  for chunk in pd.read_csv(\"beatport_complete_data.csv\", chunksize=100000):\n"
     ]
    },
    {
     "name": "stdout",
     "output_type": "stream",
     "text": [
      "Processing chunk 335...\n"
     ]
    },
    {
     "name": "stderr",
     "output_type": "stream",
     "text": [
      "C:\\Users\\olivi\\AppData\\Local\\Temp\\ipykernel_27380\\3690345104.py:15: DtypeWarning: Columns (33,35,36) have mixed types. Specify dtype option on import or set low_memory=False.\n",
      "  for chunk in pd.read_csv(\"beatport_complete_data.csv\", chunksize=100000):\n"
     ]
    },
    {
     "name": "stdout",
     "output_type": "stream",
     "text": [
      "Processing chunk 336...\n",
      "Processing chunk 337...\n",
      "Processing chunk 338...\n",
      "Processing chunk 339...\n",
      "Processing chunk 340...\n",
      "Processing chunk 341...\n",
      "Processing chunk 342...\n",
      "Processing chunk 343...\n",
      "Processing chunk 344...\n",
      "Processing chunk 345...\n",
      "Processing chunk 346...\n",
      "Processing chunk 347...\n",
      "Processing chunk 348...\n",
      "Processing chunk 349...\n",
      "Processing chunk 350...\n",
      "Processing chunk 351...\n",
      "Processing chunk 352...\n",
      "Processing chunk 353...\n",
      "Processing chunk 354...\n",
      "Processing chunk 355...\n",
      "Processing chunk 356...\n",
      "Processing chunk 357...\n",
      "Processing chunk 358...\n",
      "Processing chunk 359...\n",
      "Processing chunk 360...\n",
      "Processing chunk 361...\n",
      "Processing chunk 362...\n",
      "Processing chunk 363...\n",
      "Processing chunk 364...\n",
      "Processing chunk 365...\n",
      "Processing chunk 366...\n",
      "Processing chunk 367...\n",
      "Processing chunk 368...\n",
      "Processing chunk 369...\n",
      "Processing chunk 370...\n",
      "\n",
      "Finished processing!\n",
      "Split into 32 files:\n",
      "- Trance (Raw / Deep / Hypnotic): 5.27 MB\n",
      "- Techno (Raw / Deep / Hypnotic): 524.03 MB\n",
      "- Tech House: 927.32 MB\n",
      "- Amapiano: 10.16 MB\n",
      "- Deep House: 755.35 MB\n",
      "- Electro (Classic / Detroit / Modern): 15.58 MB\n",
      "- 140 / Deep Dubstep / Grime: 17.80 MB\n",
      "- Bass / Club: 117.72 MB\n",
      "- Jackin House: 17.67 MB\n",
      "- UK Garage / Bassline: 60.17 MB\n",
      "- Bass House: 30.14 MB\n",
      "- Afro House: 79.10 MB\n",
      "- Hard Techno: 67.54 MB\n",
      "- Funky House: 84.71 MB\n",
      "- Organic House / Downtempo: 204.60 MB\n",
      "- Techno (Peak Time / Driving): 2087.31 MB\n",
      "- Dubstep: 268.72 MB\n",
      "- Psy-Trance: 1069.34 MB\n",
      "- Nu Disco / Disco: 279.10 MB\n",
      "- Hard Dance / Hardcore: 1292.11 MB\n",
      "- Indie Dance: 178.39 MB\n",
      "- House: 2426.67 MB\n",
      "- Melodic House & Techno: 341.72 MB\n",
      "- Breaks / Breakbeat / UK Bass: 183.21 MB\n",
      "- Drum & Bass: 1493.81 MB\n",
      "- Progressive House: 574.93 MB\n",
      "- Trap / Wave: 956.84 MB\n",
      "- Mainstage: 2531.87 MB\n",
      "- Electronica: 3312.60 MB\n",
      "- Trance (Main Floor): 2573.36 MB\n",
      "- Minimal / Deep Tech: 801.89 MB\n",
      "- Dance / Electro Pop: 1876.65 MB\n"
     ]
    }
   ],
   "source": [
    "\n",
    "import pandas as pd\n",
    "import os\n",
    "\n",
    "# Create output directory\n",
    "output_dir = \"split_by_genre\"\n",
    "if not os.path.exists(output_dir):\n",
    "    os.makedirs(output_dir)\n",
    "\n",
    "# Dictionary to track files\n",
    "genre_files = {}\n",
    "chunk_number = 0\n",
    "\n",
    "# Process the file in chunks\n",
    "print(\"Starting to process file in chunks...\")\n",
    "for chunk in pd.read_csv(\"beatport_complete_data.csv\", chunksize=100000):\n",
    "    chunk_number += 1\n",
    "    print(f\"Processing chunk {chunk_number}...\")\n",
    "    \n",
    "    # Process each genre in the chunk\n",
    "    for genre in chunk['genre_name'].unique():\n",
    "        # Create safe filename\n",
    "        safe_genre = \"\".join(c if c.isalnum() or c in (' ', '-') else '_' for c in genre).rstrip()\n",
    "        filename = os.path.join(output_dir, f\"beatport_{safe_genre}.csv\")\n",
    "        \n",
    "        # Get rows for this genre\n",
    "        genre_chunk = chunk[chunk['genre_name'] == genre]\n",
    "        \n",
    "        # Append or create new file\n",
    "        if genre in genre_files:\n",
    "            genre_chunk.to_csv(filename, mode='a', header=False, index=False)\n",
    "        else:\n",
    "            genre_chunk.to_csv(filename, mode='w', header=True, index=False)\n",
    "            genre_files[genre] = filename\n",
    "            print(f\"Created new file for genre: {genre}\")\n",
    "    \n",
    "    # Clear memory\n",
    "    del chunk\n",
    "\n",
    "print(\"\\nFinished processing!\")\n",
    "print(f\"Split into {len(genre_files)} files:\")\n",
    "for genre, filepath in genre_files.items():\n",
    "    file_size = os.path.getsize(filepath) / (1024 * 1024)  # Convert to MB\n",
    "    print(f\"- {genre}: {file_size:.2f} MB\")\n"
   ]
  },
  {
   "cell_type": "code",
   "execution_count": 3,
   "metadata": {},
   "outputs": [
    {
     "name": "stderr",
     "output_type": "stream",
     "text": [
      "C:\\Users\\olivi\\AppData\\Local\\Temp\\ipykernel_43640\\240625614.py:1: DtypeWarning: Columns (15) have mixed types. Specify dtype option on import or set low_memory=False.\n",
      "  techno_raw_deep_hypnotic_df = pd.read_csv(\"split_by_genre/beatport_techno_raw_deep_hypnotic.csv\")\n"
     ]
    }
   ],
   "source": [
    "techno_raw_deep_hypnotic_df = pd.read_csv(\"split_by_genre/beatport_techno_raw_deep_hypnotic.csv\")"
   ]
  },
  {
   "cell_type": "code",
   "execution_count": 7,
   "metadata": {},
   "outputs": [
    {
     "data": {
      "text/html": [
       "<div>\n",
       "<style scoped>\n",
       "    .dataframe tbody tr th:only-of-type {\n",
       "        vertical-align: middle;\n",
       "    }\n",
       "\n",
       "    .dataframe tbody tr th {\n",
       "        vertical-align: top;\n",
       "    }\n",
       "\n",
       "    .dataframe thead th {\n",
       "        text-align: right;\n",
       "    }\n",
       "</style>\n",
       "<table border=\"1\" class=\"dataframe\">\n",
       "  <thead>\n",
       "    <tr style=\"text-align: right;\">\n",
       "      <th></th>\n",
       "      <th>track_id</th>\n",
       "      <th>title</th>\n",
       "      <th>mix</th>\n",
       "      <th>is_remixed</th>\n",
       "      <th>release_date</th>\n",
       "      <th>genre_id</th>\n",
       "      <th>subgenre_id</th>\n",
       "      <th>track_url</th>\n",
       "      <th>bpm</th>\n",
       "      <th>duration</th>\n",
       "      <th>...</th>\n",
       "      <th>label_name</th>\n",
       "      <th>label_url</th>\n",
       "      <th>label_img_id</th>\n",
       "      <th>label_img_uuid</th>\n",
       "      <th>artist_id</th>\n",
       "      <th>is_remixer</th>\n",
       "      <th>artist_name</th>\n",
       "      <th>artist_url</th>\n",
       "      <th>artist_img_id</th>\n",
       "      <th>artist_img_uuid</th>\n",
       "    </tr>\n",
       "  </thead>\n",
       "  <tbody>\n",
       "    <tr>\n",
       "      <th>0</th>\n",
       "      <td>387142</td>\n",
       "      <td>Avion</td>\n",
       "      <td>Original Mix</td>\n",
       "      <td>f</td>\n",
       "      <td>1994-06-22</td>\n",
       "      <td>92</td>\n",
       "      <td>NaN</td>\n",
       "      <td>beatport.com/track/avion/387142</td>\n",
       "      <td>130</td>\n",
       "      <td>5:52</td>\n",
       "      <td>...</td>\n",
       "      <td>Synewave</td>\n",
       "      <td>beatport.com/label/synewave/2587</td>\n",
       "      <td>3231998</td>\n",
       "      <td>0d3916f7-e37e-4514-a952-a0187452096f</td>\n",
       "      <td>8004</td>\n",
       "      <td>f</td>\n",
       "      <td>Damon Wild</td>\n",
       "      <td>beatport.com/artist/damon-wild/8004</td>\n",
       "      <td>245396</td>\n",
       "      <td>48f7f2f3-cc67-450f-9e47-1c0269dac7ae</td>\n",
       "    </tr>\n",
       "    <tr>\n",
       "      <th>1</th>\n",
       "      <td>387142</td>\n",
       "      <td>Avion</td>\n",
       "      <td>Original Mix</td>\n",
       "      <td>f</td>\n",
       "      <td>1994-06-22</td>\n",
       "      <td>92</td>\n",
       "      <td>NaN</td>\n",
       "      <td>beatport.com/track/avion/387142</td>\n",
       "      <td>130</td>\n",
       "      <td>5:52</td>\n",
       "      <td>...</td>\n",
       "      <td>Synewave</td>\n",
       "      <td>beatport.com/label/synewave/2587</td>\n",
       "      <td>3231998</td>\n",
       "      <td>0d3916f7-e37e-4514-a952-a0187452096f</td>\n",
       "      <td>8004</td>\n",
       "      <td>f</td>\n",
       "      <td>Damon Wild</td>\n",
       "      <td>beatport.com/artist/damon-wild/8004</td>\n",
       "      <td>245396</td>\n",
       "      <td>48f7f2f3-cc67-450f-9e47-1c0269dac7ae</td>\n",
       "    </tr>\n",
       "    <tr>\n",
       "      <th>2</th>\n",
       "      <td>387142</td>\n",
       "      <td>Avion</td>\n",
       "      <td>Original Mix</td>\n",
       "      <td>f</td>\n",
       "      <td>1994-06-22</td>\n",
       "      <td>92</td>\n",
       "      <td>NaN</td>\n",
       "      <td>beatport.com/track/avion/387142</td>\n",
       "      <td>130</td>\n",
       "      <td>5:52</td>\n",
       "      <td>...</td>\n",
       "      <td>Synewave</td>\n",
       "      <td>beatport.com/label/synewave/2587</td>\n",
       "      <td>3231998</td>\n",
       "      <td>0d3916f7-e37e-4514-a952-a0187452096f</td>\n",
       "      <td>8004</td>\n",
       "      <td>f</td>\n",
       "      <td>Damon Wild</td>\n",
       "      <td>beatport.com/artist/damon-wild/8004</td>\n",
       "      <td>245396</td>\n",
       "      <td>48f7f2f3-cc67-450f-9e47-1c0269dac7ae</td>\n",
       "    </tr>\n",
       "    <tr>\n",
       "      <th>3</th>\n",
       "      <td>387142</td>\n",
       "      <td>Avion</td>\n",
       "      <td>Original Mix</td>\n",
       "      <td>f</td>\n",
       "      <td>1994-06-22</td>\n",
       "      <td>92</td>\n",
       "      <td>NaN</td>\n",
       "      <td>beatport.com/track/avion/387142</td>\n",
       "      <td>130</td>\n",
       "      <td>5:52</td>\n",
       "      <td>...</td>\n",
       "      <td>Synewave</td>\n",
       "      <td>beatport.com/label/synewave/2587</td>\n",
       "      <td>3231998</td>\n",
       "      <td>0d3916f7-e37e-4514-a952-a0187452096f</td>\n",
       "      <td>8004</td>\n",
       "      <td>f</td>\n",
       "      <td>Damon Wild</td>\n",
       "      <td>beatport.com/artist/damon-wild/8004</td>\n",
       "      <td>245396</td>\n",
       "      <td>48f7f2f3-cc67-450f-9e47-1c0269dac7ae</td>\n",
       "    </tr>\n",
       "    <tr>\n",
       "      <th>4</th>\n",
       "      <td>387142</td>\n",
       "      <td>Avion</td>\n",
       "      <td>Original Mix</td>\n",
       "      <td>f</td>\n",
       "      <td>1994-06-22</td>\n",
       "      <td>92</td>\n",
       "      <td>NaN</td>\n",
       "      <td>beatport.com/track/avion/387142</td>\n",
       "      <td>130</td>\n",
       "      <td>5:52</td>\n",
       "      <td>...</td>\n",
       "      <td>Synewave</td>\n",
       "      <td>beatport.com/label/synewave/2587</td>\n",
       "      <td>3231998</td>\n",
       "      <td>0d3916f7-e37e-4514-a952-a0187452096f</td>\n",
       "      <td>8004</td>\n",
       "      <td>f</td>\n",
       "      <td>Damon Wild</td>\n",
       "      <td>beatport.com/artist/damon-wild/8004</td>\n",
       "      <td>245396</td>\n",
       "      <td>48f7f2f3-cc67-450f-9e47-1c0269dac7ae</td>\n",
       "    </tr>\n",
       "  </tbody>\n",
       "</table>\n",
       "<p>5 rows × 52 columns</p>\n",
       "</div>"
      ],
      "text/plain": [
       "   track_id  title           mix is_remixed release_date  genre_id  \\\n",
       "0    387142  Avion  Original Mix          f   1994-06-22        92   \n",
       "1    387142  Avion  Original Mix          f   1994-06-22        92   \n",
       "2    387142  Avion  Original Mix          f   1994-06-22        92   \n",
       "3    387142  Avion  Original Mix          f   1994-06-22        92   \n",
       "4    387142  Avion  Original Mix          f   1994-06-22        92   \n",
       "\n",
       "   subgenre_id                        track_url  bpm duration  ...  \\\n",
       "0          NaN  beatport.com/track/avion/387142  130     5:52  ...   \n",
       "1          NaN  beatport.com/track/avion/387142  130     5:52  ...   \n",
       "2          NaN  beatport.com/track/avion/387142  130     5:52  ...   \n",
       "3          NaN  beatport.com/track/avion/387142  130     5:52  ...   \n",
       "4          NaN  beatport.com/track/avion/387142  130     5:52  ...   \n",
       "\n",
       "   label_name                         label_url  label_img_id  \\\n",
       "0    Synewave  beatport.com/label/synewave/2587       3231998   \n",
       "1    Synewave  beatport.com/label/synewave/2587       3231998   \n",
       "2    Synewave  beatport.com/label/synewave/2587       3231998   \n",
       "3    Synewave  beatport.com/label/synewave/2587       3231998   \n",
       "4    Synewave  beatport.com/label/synewave/2587       3231998   \n",
       "\n",
       "                         label_img_uuid  artist_id is_remixer  artist_name  \\\n",
       "0  0d3916f7-e37e-4514-a952-a0187452096f       8004          f   Damon Wild   \n",
       "1  0d3916f7-e37e-4514-a952-a0187452096f       8004          f   Damon Wild   \n",
       "2  0d3916f7-e37e-4514-a952-a0187452096f       8004          f   Damon Wild   \n",
       "3  0d3916f7-e37e-4514-a952-a0187452096f       8004          f   Damon Wild   \n",
       "4  0d3916f7-e37e-4514-a952-a0187452096f       8004          f   Damon Wild   \n",
       "\n",
       "                            artist_url artist_img_id  \\\n",
       "0  beatport.com/artist/damon-wild/8004        245396   \n",
       "1  beatport.com/artist/damon-wild/8004        245396   \n",
       "2  beatport.com/artist/damon-wild/8004        245396   \n",
       "3  beatport.com/artist/damon-wild/8004        245396   \n",
       "4  beatport.com/artist/damon-wild/8004        245396   \n",
       "\n",
       "                        artist_img_uuid  \n",
       "0  48f7f2f3-cc67-450f-9e47-1c0269dac7ae  \n",
       "1  48f7f2f3-cc67-450f-9e47-1c0269dac7ae  \n",
       "2  48f7f2f3-cc67-450f-9e47-1c0269dac7ae  \n",
       "3  48f7f2f3-cc67-450f-9e47-1c0269dac7ae  \n",
       "4  48f7f2f3-cc67-450f-9e47-1c0269dac7ae  \n",
       "\n",
       "[5 rows x 52 columns]"
      ]
     },
     "execution_count": 7,
     "metadata": {},
     "output_type": "execute_result"
    }
   ],
   "source": [
    "techno_raw_deep_hypnotic_df.head(5)"
   ]
  },
  {
   "cell_type": "code",
   "execution_count": 4,
   "metadata": {},
   "outputs": [
    {
     "data": {
      "text/plain": [
       "Index(['track_id', 'title', 'mix', 'is_remixed', 'release_date', 'genre_id',\n",
       "       'subgenre_id', 'track_url', 'bpm', 'duration', 'duration_ms', 'isrc',\n",
       "       'key_id', 'label_id', 'release_id', 'is_matched_spot', 'wave_img_id',\n",
       "       'wave_img_uuid', 'sample_uuid', 'sample_start', 'sample_end',\n",
       "       'key_letter', 'key_name', 'camelot_num', 'camelot_letter', 'is_sharp',\n",
       "       'is_flat', 'chord_id', 'chord_name', 'genre_name', 'song_count',\n",
       "       'genre_url', 'subgenre_id_subgenre', 'subgenre_name',\n",
       "       'song_count_subgenre', 'subgenre_url', 'updated_on', 'release_title',\n",
       "       'release_date_release', 'release_url', 'release_img_id',\n",
       "       'release_img_uuid', 'label_name', 'label_url', 'label_img_id',\n",
       "       'label_img_uuid', 'artist_id', 'is_remixer', 'artist_name',\n",
       "       'artist_url', 'artist_img_id', 'artist_img_uuid'],\n",
       "      dtype='object')"
      ]
     },
     "execution_count": 4,
     "metadata": {},
     "output_type": "execute_result"
    }
   ],
   "source": [
    "techno_raw_deep_hypnotic_df.columns"
   ]
  },
  {
   "cell_type": "code",
   "execution_count": 9,
   "metadata": {},
   "outputs": [
    {
     "data": {
      "text/plain": [
       "dtype('O')"
      ]
     },
     "execution_count": 9,
     "metadata": {},
     "output_type": "execute_result"
    }
   ],
   "source": [
    "techno_raw_deep_hypnotic_df[\"is_matched_spot\"].dtypes\n"
   ]
  },
  {
   "cell_type": "code",
   "execution_count": 10,
   "metadata": {},
   "outputs": [],
   "source": [
    "def remove_sub_genre(filename):\n",
    "    df = pd.read_csv(filename)\n",
    "    df = df.drop(columns=['subgenre_id', 'subgenre_id_subgenre', 'subgenre_name', 'song_count_subgenre', 'subgenre_url', 'updated_on', \"is_matched_spot\"])\n",
    "    df = df.drop_duplicates(subset=['track_id'])\n",
    "    df.to_csv(filename, '_no_subgenre', index=False)\n"
   ]
  },
  {
   "cell_type": "code",
   "execution_count": 11,
   "metadata": {},
   "outputs": [
    {
     "name": "stderr",
     "output_type": "stream",
     "text": [
      "C:\\Users\\olivi\\AppData\\Local\\Temp\\ipykernel_43640\\3700072806.py:5: DtypeWarning: Columns (15) have mixed types. Specify dtype option on import or set low_memory=False.\n",
      "  df = pd.read_csv(filename)\n"
     ]
    },
    {
     "name": "stdout",
     "output_type": "stream",
     "text": [
      "Processed split_by_genre\\beatport_afro_house.csv -> split_by_genre\\beatport_afro_house_no_subgenre.csv\n",
      "Processed split_by_genre\\beatport_amapiano.csv -> split_by_genre\\beatport_amapiano_no_subgenre.csv\n",
      "Processed split_by_genre\\beatport_Bass House.csv -> split_by_genre\\beatport_Bass House_no_subgenre.csv\n"
     ]
    },
    {
     "name": "stderr",
     "output_type": "stream",
     "text": [
      "C:\\Users\\olivi\\AppData\\Local\\Temp\\ipykernel_43640\\3700072806.py:5: DtypeWarning: Columns (15) have mixed types. Specify dtype option on import or set low_memory=False.\n",
      "  df = pd.read_csv(filename)\n"
     ]
    },
    {
     "name": "stdout",
     "output_type": "stream",
     "text": [
      "Processed split_by_genre\\beatport_bass_club.csv -> split_by_genre\\beatport_bass_club_no_subgenre.csv\n"
     ]
    },
    {
     "name": "stderr",
     "output_type": "stream",
     "text": [
      "C:\\Users\\olivi\\AppData\\Local\\Temp\\ipykernel_43640\\3700072806.py:5: DtypeWarning: Columns (15) have mixed types. Specify dtype option on import or set low_memory=False.\n",
      "  df = pd.read_csv(filename)\n"
     ]
    },
    {
     "name": "stdout",
     "output_type": "stream",
     "text": [
      "Processed split_by_genre\\beatport_breaks__breakbeat_UKBass.csv -> split_by_genre\\beatport_breaks__breakbeat_UKBass_no_subgenre.csv\n"
     ]
    },
    {
     "name": "stderr",
     "output_type": "stream",
     "text": [
      "C:\\Users\\olivi\\AppData\\Local\\Temp\\ipykernel_43640\\3700072806.py:5: DtypeWarning: Columns (15) have mixed types. Specify dtype option on import or set low_memory=False.\n",
      "  df = pd.read_csv(filename)\n"
     ]
    },
    {
     "name": "stdout",
     "output_type": "stream",
     "text": [
      "Processed split_by_genre\\beatport_dance_electro_pop.csv -> split_by_genre\\beatport_dance_electro_pop_no_subgenre.csv\n",
      "Processed split_by_genre\\beatport_deep_dubstep_grime.csv -> split_by_genre\\beatport_deep_dubstep_grime_no_subgenre.csv\n"
     ]
    },
    {
     "name": "stderr",
     "output_type": "stream",
     "text": [
      "C:\\Users\\olivi\\AppData\\Local\\Temp\\ipykernel_43640\\3700072806.py:5: DtypeWarning: Columns (15) have mixed types. Specify dtype option on import or set low_memory=False.\n",
      "  df = pd.read_csv(filename)\n"
     ]
    },
    {
     "name": "stdout",
     "output_type": "stream",
     "text": [
      "Processed split_by_genre\\beatport_deep_house.csv -> split_by_genre\\beatport_deep_house_no_subgenre.csv\n"
     ]
    },
    {
     "name": "stderr",
     "output_type": "stream",
     "text": [
      "C:\\Users\\olivi\\AppData\\Local\\Temp\\ipykernel_43640\\3700072806.py:5: DtypeWarning: Columns (15) have mixed types. Specify dtype option on import or set low_memory=False.\n",
      "  df = pd.read_csv(filename)\n"
     ]
    },
    {
     "name": "stdout",
     "output_type": "stream",
     "text": [
      "Processed split_by_genre\\beatport_drum_bass.csv -> split_by_genre\\beatport_drum_bass_no_subgenre.csv\n"
     ]
    },
    {
     "name": "stderr",
     "output_type": "stream",
     "text": [
      "C:\\Users\\olivi\\AppData\\Local\\Temp\\ipykernel_43640\\3700072806.py:5: DtypeWarning: Columns (15) have mixed types. Specify dtype option on import or set low_memory=False.\n",
      "  df = pd.read_csv(filename)\n"
     ]
    },
    {
     "name": "stdout",
     "output_type": "stream",
     "text": [
      "Processed split_by_genre\\beatport_dubstep.csv -> split_by_genre\\beatport_dubstep_no_subgenre.csv\n",
      "Processed split_by_genre\\beatport_electro _classic_detroit .csv -> split_by_genre\\beatport_electro _classic_detroit _no_subgenre.csv\n"
     ]
    },
    {
     "name": "stderr",
     "output_type": "stream",
     "text": [
      "C:\\Users\\olivi\\AppData\\Local\\Temp\\ipykernel_43640\\3700072806.py:5: DtypeWarning: Columns (15) have mixed types. Specify dtype option on import or set low_memory=False.\n",
      "  df = pd.read_csv(filename)\n"
     ]
    },
    {
     "name": "stdout",
     "output_type": "stream",
     "text": [
      "Processed split_by_genre\\beatport_electronica.csv -> split_by_genre\\beatport_electronica_no_subgenre.csv\n"
     ]
    },
    {
     "name": "stderr",
     "output_type": "stream",
     "text": [
      "C:\\Users\\olivi\\AppData\\Local\\Temp\\ipykernel_43640\\3700072806.py:5: DtypeWarning: Columns (15) have mixed types. Specify dtype option on import or set low_memory=False.\n",
      "  df = pd.read_csv(filename)\n"
     ]
    },
    {
     "name": "stdout",
     "output_type": "stream",
     "text": [
      "Processed split_by_genre\\beatport_funky_house.csv -> split_by_genre\\beatport_funky_house_no_subgenre.csv\n"
     ]
    },
    {
     "name": "stderr",
     "output_type": "stream",
     "text": [
      "C:\\Users\\olivi\\AppData\\Local\\Temp\\ipykernel_43640\\3700072806.py:5: DtypeWarning: Columns (15) have mixed types. Specify dtype option on import or set low_memory=False.\n",
      "  df = pd.read_csv(filename)\n"
     ]
    },
    {
     "name": "stdout",
     "output_type": "stream",
     "text": [
      "Processed split_by_genre\\beatport_hard_dance_hardcore.csv -> split_by_genre\\beatport_hard_dance_hardcore_no_subgenre.csv\n",
      "Processed split_by_genre\\beatport_hard_techno.csv -> split_by_genre\\beatport_hard_techno_no_subgenre.csv\n"
     ]
    },
    {
     "name": "stderr",
     "output_type": "stream",
     "text": [
      "C:\\Users\\olivi\\AppData\\Local\\Temp\\ipykernel_43640\\3700072806.py:5: DtypeWarning: Columns (15) have mixed types. Specify dtype option on import or set low_memory=False.\n",
      "  df = pd.read_csv(filename)\n"
     ]
    },
    {
     "name": "stdout",
     "output_type": "stream",
     "text": [
      "Processed split_by_genre\\beatport_house.csv -> split_by_genre\\beatport_house_no_subgenre.csv\n"
     ]
    },
    {
     "name": "stderr",
     "output_type": "stream",
     "text": [
      "C:\\Users\\olivi\\AppData\\Local\\Temp\\ipykernel_43640\\3700072806.py:5: DtypeWarning: Columns (15) have mixed types. Specify dtype option on import or set low_memory=False.\n",
      "  df = pd.read_csv(filename)\n"
     ]
    },
    {
     "name": "stdout",
     "output_type": "stream",
     "text": [
      "Processed split_by_genre\\beatport_indie_dance.csv -> split_by_genre\\beatport_indie_dance_no_subgenre.csv\n",
      "Processed split_by_genre\\beatport_jackin_house.csv -> split_by_genre\\beatport_jackin_house_no_subgenre.csv\n"
     ]
    },
    {
     "name": "stderr",
     "output_type": "stream",
     "text": [
      "C:\\Users\\olivi\\AppData\\Local\\Temp\\ipykernel_43640\\3700072806.py:5: DtypeWarning: Columns (15) have mixed types. Specify dtype option on import or set low_memory=False.\n",
      "  df = pd.read_csv(filename)\n"
     ]
    },
    {
     "name": "stdout",
     "output_type": "stream",
     "text": [
      "Processed split_by_genre\\beatport_mainstage.csv -> split_by_genre\\beatport_mainstage_no_subgenre.csv\n"
     ]
    },
    {
     "name": "stderr",
     "output_type": "stream",
     "text": [
      "C:\\Users\\olivi\\AppData\\Local\\Temp\\ipykernel_43640\\3700072806.py:5: DtypeWarning: Columns (15) have mixed types. Specify dtype option on import or set low_memory=False.\n",
      "  df = pd.read_csv(filename)\n"
     ]
    },
    {
     "name": "stdout",
     "output_type": "stream",
     "text": [
      "Processed split_by_genre\\beatport_melodic_house_techno.csv -> split_by_genre\\beatport_melodic_house_techno_no_subgenre.csv\n"
     ]
    },
    {
     "name": "stderr",
     "output_type": "stream",
     "text": [
      "C:\\Users\\olivi\\AppData\\Local\\Temp\\ipykernel_43640\\3700072806.py:5: DtypeWarning: Columns (15) have mixed types. Specify dtype option on import or set low_memory=False.\n",
      "  df = pd.read_csv(filename)\n"
     ]
    },
    {
     "name": "stdout",
     "output_type": "stream",
     "text": [
      "Processed split_by_genre\\beatport_minimal_deep_tech.csv -> split_by_genre\\beatport_minimal_deep_tech_no_subgenre.csv\n"
     ]
    },
    {
     "name": "stderr",
     "output_type": "stream",
     "text": [
      "C:\\Users\\olivi\\AppData\\Local\\Temp\\ipykernel_43640\\3700072806.py:5: DtypeWarning: Columns (15) have mixed types. Specify dtype option on import or set low_memory=False.\n",
      "  df = pd.read_csv(filename)\n"
     ]
    },
    {
     "name": "stdout",
     "output_type": "stream",
     "text": [
      "Processed split_by_genre\\beatport_nu_disco.csv -> split_by_genre\\beatport_nu_disco_no_subgenre.csv\n"
     ]
    },
    {
     "name": "stderr",
     "output_type": "stream",
     "text": [
      "C:\\Users\\olivi\\AppData\\Local\\Temp\\ipykernel_43640\\3700072806.py:5: DtypeWarning: Columns (15) have mixed types. Specify dtype option on import or set low_memory=False.\n",
      "  df = pd.read_csv(filename)\n"
     ]
    },
    {
     "name": "stdout",
     "output_type": "stream",
     "text": [
      "Processed split_by_genre\\beatport_organic_house_downtempo.csv -> split_by_genre\\beatport_organic_house_downtempo_no_subgenre.csv\n"
     ]
    },
    {
     "name": "stderr",
     "output_type": "stream",
     "text": [
      "C:\\Users\\olivi\\AppData\\Local\\Temp\\ipykernel_43640\\3700072806.py:5: DtypeWarning: Columns (15) have mixed types. Specify dtype option on import or set low_memory=False.\n",
      "  df = pd.read_csv(filename)\n"
     ]
    },
    {
     "name": "stdout",
     "output_type": "stream",
     "text": [
      "Processed split_by_genre\\beatport_progressive_house.csv -> split_by_genre\\beatport_progressive_house_no_subgenre.csv\n"
     ]
    },
    {
     "name": "stderr",
     "output_type": "stream",
     "text": [
      "C:\\Users\\olivi\\AppData\\Local\\Temp\\ipykernel_43640\\3700072806.py:5: DtypeWarning: Columns (15) have mixed types. Specify dtype option on import or set low_memory=False.\n",
      "  df = pd.read_csv(filename)\n"
     ]
    },
    {
     "name": "stdout",
     "output_type": "stream",
     "text": [
      "Processed split_by_genre\\beatport_psy_trance.csv -> split_by_genre\\beatport_psy_trance_no_subgenre.csv\n"
     ]
    },
    {
     "name": "stderr",
     "output_type": "stream",
     "text": [
      "C:\\Users\\olivi\\AppData\\Local\\Temp\\ipykernel_43640\\3700072806.py:5: DtypeWarning: Columns (15) have mixed types. Specify dtype option on import or set low_memory=False.\n",
      "  df = pd.read_csv(filename)\n"
     ]
    },
    {
     "name": "stdout",
     "output_type": "stream",
     "text": [
      "Processed split_by_genre\\beatport_techno_peak_time.csv -> split_by_genre\\beatport_techno_peak_time_no_subgenre.csv\n"
     ]
    },
    {
     "name": "stderr",
     "output_type": "stream",
     "text": [
      "C:\\Users\\olivi\\AppData\\Local\\Temp\\ipykernel_43640\\3700072806.py:5: DtypeWarning: Columns (15) have mixed types. Specify dtype option on import or set low_memory=False.\n",
      "  df = pd.read_csv(filename)\n"
     ]
    },
    {
     "name": "stdout",
     "output_type": "stream",
     "text": [
      "Processed split_by_genre\\beatport_techno_raw_deep_hypnotic.csv -> split_by_genre\\beatport_techno_raw_deep_hypnotic_no_subgenre.csv\n"
     ]
    },
    {
     "name": "stderr",
     "output_type": "stream",
     "text": [
      "C:\\Users\\olivi\\AppData\\Local\\Temp\\ipykernel_43640\\3700072806.py:5: DtypeWarning: Columns (15) have mixed types. Specify dtype option on import or set low_memory=False.\n",
      "  df = pd.read_csv(filename)\n"
     ]
    },
    {
     "name": "stdout",
     "output_type": "stream",
     "text": [
      "Processed split_by_genre\\beatport_tech_house.csv -> split_by_genre\\beatport_tech_house_no_subgenre.csv\n"
     ]
    },
    {
     "name": "stderr",
     "output_type": "stream",
     "text": [
      "C:\\Users\\olivi\\AppData\\Local\\Temp\\ipykernel_43640\\3700072806.py:5: DtypeWarning: Columns (15) have mixed types. Specify dtype option on import or set low_memory=False.\n",
      "  df = pd.read_csv(filename)\n"
     ]
    },
    {
     "name": "stdout",
     "output_type": "stream",
     "text": [
      "Processed split_by_genre\\beatport_trance.csv -> split_by_genre\\beatport_trance_no_subgenre.csv\n",
      "Processed split_by_genre\\beatport_trance_raw_deep_hypnotic_.csv -> split_by_genre\\beatport_trance_raw_deep_hypnotic__no_subgenre.csv\n"
     ]
    },
    {
     "name": "stderr",
     "output_type": "stream",
     "text": [
      "C:\\Users\\olivi\\AppData\\Local\\Temp\\ipykernel_43640\\3700072806.py:5: DtypeWarning: Columns (15) have mixed types. Specify dtype option on import or set low_memory=False.\n",
      "  df = pd.read_csv(filename)\n"
     ]
    },
    {
     "name": "stdout",
     "output_type": "stream",
     "text": [
      "Processed split_by_genre\\beatport_trap_wave.csv -> split_by_genre\\beatport_trap_wave_no_subgenre.csv\n"
     ]
    },
    {
     "name": "stderr",
     "output_type": "stream",
     "text": [
      "C:\\Users\\olivi\\AppData\\Local\\Temp\\ipykernel_43640\\3700072806.py:5: DtypeWarning: Columns (15) have mixed types. Specify dtype option on import or set low_memory=False.\n",
      "  df = pd.read_csv(filename)\n"
     ]
    },
    {
     "name": "stdout",
     "output_type": "stream",
     "text": [
      "Processed split_by_genre\\beatport_uk_garage_bassline.csv -> split_by_genre\\beatport_uk_garage_bassline_no_subgenre.csv\n"
     ]
    }
   ],
   "source": [
    "import pandas as pd\n",
    "import os\n",
    "\n",
    "def remove_sub_genre(filename):\n",
    "    df = pd.read_csv(filename)\n",
    "    df = df.drop(columns=['subgenre_id', 'subgenre_id_subgenre', 'subgenre_name', 'song_count_subgenre', 'subgenre_url', 'updated_on', \"is_matched_spot\"])\n",
    "    df = df.drop_duplicates(subset=['track_id'])\n",
    "    # Fix the output filename creation - using os.path.join and string formatting\n",
    "    output_filename = os.path.join(os.path.dirname(filename), f\"{os.path.splitext(os.path.basename(filename))[0]}_no_subgenre.csv\")\n",
    "    df.to_csv(output_filename, index=False)\n",
    "    print(f\"Processed {filename} -> {output_filename}\")\n",
    "\n",
    "# Path to your folder\n",
    "folder_path = \"split_by_genre\"\n",
    "\n",
    "# Iterate through all CSV files in the folder\n",
    "for filename in os.listdir(folder_path):\n",
    "    if filename.endswith(\".csv\"):\n",
    "        full_path = os.path.join(folder_path, filename)\n",
    "        remove_sub_genre(full_path)"
   ]
  },
  {
   "cell_type": "code",
   "execution_count": 15,
   "metadata": {},
   "outputs": [
    {
     "data": {
      "text/html": [
       "<div>\n",
       "<style scoped>\n",
       "    .dataframe tbody tr th:only-of-type {\n",
       "        vertical-align: middle;\n",
       "    }\n",
       "\n",
       "    .dataframe tbody tr th {\n",
       "        vertical-align: top;\n",
       "    }\n",
       "\n",
       "    .dataframe thead th {\n",
       "        text-align: right;\n",
       "    }\n",
       "</style>\n",
       "<table border=\"1\" class=\"dataframe\">\n",
       "  <thead>\n",
       "    <tr style=\"text-align: right;\">\n",
       "      <th></th>\n",
       "      <th>track_id</th>\n",
       "      <th>title</th>\n",
       "      <th>mix</th>\n",
       "      <th>is_remixed</th>\n",
       "      <th>release_date</th>\n",
       "      <th>genre_id</th>\n",
       "      <th>track_url</th>\n",
       "      <th>bpm</th>\n",
       "      <th>duration</th>\n",
       "      <th>duration_ms</th>\n",
       "      <th>...</th>\n",
       "      <th>label_name</th>\n",
       "      <th>label_url</th>\n",
       "      <th>label_img_id</th>\n",
       "      <th>label_img_uuid</th>\n",
       "      <th>artist_id</th>\n",
       "      <th>is_remixer</th>\n",
       "      <th>artist_name</th>\n",
       "      <th>artist_url</th>\n",
       "      <th>artist_img_id</th>\n",
       "      <th>artist_img_uuid</th>\n",
       "    </tr>\n",
       "  </thead>\n",
       "  <tbody>\n",
       "    <tr>\n",
       "      <th>0</th>\n",
       "      <td>387142</td>\n",
       "      <td>Avion</td>\n",
       "      <td>Original Mix</td>\n",
       "      <td>f</td>\n",
       "      <td>1994-06-22</td>\n",
       "      <td>92</td>\n",
       "      <td>beatport.com/track/avion/387142</td>\n",
       "      <td>130</td>\n",
       "      <td>5:52</td>\n",
       "      <td>352466.0</td>\n",
       "      <td>...</td>\n",
       "      <td>Synewave</td>\n",
       "      <td>beatport.com/label/synewave/2587</td>\n",
       "      <td>3231998</td>\n",
       "      <td>0d3916f7-e37e-4514-a952-a0187452096f</td>\n",
       "      <td>8004</td>\n",
       "      <td>f</td>\n",
       "      <td>Damon Wild</td>\n",
       "      <td>beatport.com/artist/damon-wild/8004</td>\n",
       "      <td>245396</td>\n",
       "      <td>48f7f2f3-cc67-450f-9e47-1c0269dac7ae</td>\n",
       "    </tr>\n",
       "    <tr>\n",
       "      <th>1</th>\n",
       "      <td>473092</td>\n",
       "      <td>Rotary</td>\n",
       "      <td>Regis Mix</td>\n",
       "      <td>t</td>\n",
       "      <td>1994-06-22</td>\n",
       "      <td>92</td>\n",
       "      <td>beatport.com/track/rotary/473092</td>\n",
       "      <td>131</td>\n",
       "      <td>4:15</td>\n",
       "      <td>255012.0</td>\n",
       "      <td>...</td>\n",
       "      <td>Synewave</td>\n",
       "      <td>beatport.com/label/synewave/2587</td>\n",
       "      <td>3231998</td>\n",
       "      <td>0d3916f7-e37e-4514-a952-a0187452096f</td>\n",
       "      <td>8004</td>\n",
       "      <td>f</td>\n",
       "      <td>Damon Wild</td>\n",
       "      <td>beatport.com/artist/damon-wild/8004</td>\n",
       "      <td>245396</td>\n",
       "      <td>48f7f2f3-cc67-450f-9e47-1c0269dac7ae</td>\n",
       "    </tr>\n",
       "    <tr>\n",
       "      <th>2</th>\n",
       "      <td>3402856</td>\n",
       "      <td>001#5</td>\n",
       "      <td>Original Mix</td>\n",
       "      <td>f</td>\n",
       "      <td>2012-03-30</td>\n",
       "      <td>92</td>\n",
       "      <td>beatport.com/track/0015/3402856</td>\n",
       "      <td>116</td>\n",
       "      <td>7:44</td>\n",
       "      <td>464318.0</td>\n",
       "      <td>...</td>\n",
       "      <td>Rawax</td>\n",
       "      <td>beatport.com/label/rawax/22353</td>\n",
       "      <td>3942313</td>\n",
       "      <td>8c92d23c-54f7-4d27-a380-c8e9d73ed9d2</td>\n",
       "      <td>256549</td>\n",
       "      <td>f</td>\n",
       "      <td>Vualitron</td>\n",
       "      <td>beatport.com/artist/vualitron/256549</td>\n",
       "      <td>5539565</td>\n",
       "      <td>0dc61986-bccf-49d4-8fad-6b147ea8f327</td>\n",
       "    </tr>\n",
       "    <tr>\n",
       "      <th>3</th>\n",
       "      <td>3402852</td>\n",
       "      <td>001#1</td>\n",
       "      <td>Original Mix</td>\n",
       "      <td>f</td>\n",
       "      <td>2012-03-30</td>\n",
       "      <td>92</td>\n",
       "      <td>beatport.com/track/0011/3402852</td>\n",
       "      <td>116</td>\n",
       "      <td>6:25</td>\n",
       "      <td>385100.0</td>\n",
       "      <td>...</td>\n",
       "      <td>Rawax</td>\n",
       "      <td>beatport.com/label/rawax/22353</td>\n",
       "      <td>3942313</td>\n",
       "      <td>8c92d23c-54f7-4d27-a380-c8e9d73ed9d2</td>\n",
       "      <td>256549</td>\n",
       "      <td>f</td>\n",
       "      <td>Vualitron</td>\n",
       "      <td>beatport.com/artist/vualitron/256549</td>\n",
       "      <td>5539565</td>\n",
       "      <td>0dc61986-bccf-49d4-8fad-6b147ea8f327</td>\n",
       "    </tr>\n",
       "    <tr>\n",
       "      <th>4</th>\n",
       "      <td>3332498</td>\n",
       "      <td>Czt</td>\n",
       "      <td>Original Mix</td>\n",
       "      <td>f</td>\n",
       "      <td>2012-03-02</td>\n",
       "      <td>92</td>\n",
       "      <td>beatport.com/track/czt/3332498</td>\n",
       "      <td>125</td>\n",
       "      <td>11:15</td>\n",
       "      <td>675840.0</td>\n",
       "      <td>...</td>\n",
       "      <td>Silent Steps</td>\n",
       "      <td>beatport.com/label/silent-steps/18855</td>\n",
       "      <td>10060408</td>\n",
       "      <td>5dcc3ced-d42f-4a3a-9a35-5e8479ee664a</td>\n",
       "      <td>132943</td>\n",
       "      <td>f</td>\n",
       "      <td>The Noisemaker</td>\n",
       "      <td>beatport.com/artist/the-noisemaker/132943</td>\n",
       "      <td>6484800</td>\n",
       "      <td>7d660daa-a9aa-4ede-b92f-84bb1c18279c</td>\n",
       "    </tr>\n",
       "    <tr>\n",
       "      <th>...</th>\n",
       "      <td>...</td>\n",
       "      <td>...</td>\n",
       "      <td>...</td>\n",
       "      <td>...</td>\n",
       "      <td>...</td>\n",
       "      <td>...</td>\n",
       "      <td>...</td>\n",
       "      <td>...</td>\n",
       "      <td>...</td>\n",
       "      <td>...</td>\n",
       "      <td>...</td>\n",
       "      <td>...</td>\n",
       "      <td>...</td>\n",
       "      <td>...</td>\n",
       "      <td>...</td>\n",
       "      <td>...</td>\n",
       "      <td>...</td>\n",
       "      <td>...</td>\n",
       "      <td>...</td>\n",
       "      <td>...</td>\n",
       "      <td>...</td>\n",
       "    </tr>\n",
       "    <tr>\n",
       "      <th>125386</th>\n",
       "      <td>649022</td>\n",
       "      <td>Bienfait 2</td>\n",
       "      <td>Original Mix</td>\n",
       "      <td>f</td>\n",
       "      <td>2000-05-24</td>\n",
       "      <td>92</td>\n",
       "      <td>beatport.com/track/bienfait-2/649022</td>\n",
       "      <td>71</td>\n",
       "      <td>5:31</td>\n",
       "      <td>331386.0</td>\n",
       "      <td>...</td>\n",
       "      <td>Kompakt</td>\n",
       "      <td>beatport.com/label/kompakt/4530</td>\n",
       "      <td>11537448</td>\n",
       "      <td>2a4c2937-e97c-40a7-8be8-605c7a9b5169</td>\n",
       "      <td>4984</td>\n",
       "      <td>f</td>\n",
       "      <td>Jonas Bering</td>\n",
       "      <td>beatport.com/artist/jonas-bering/4984</td>\n",
       "      <td>12330837</td>\n",
       "      <td>7cb378b7-c612-48aa-82a2-15a86549ebd1</td>\n",
       "    </tr>\n",
       "    <tr>\n",
       "      <th>125387</th>\n",
       "      <td>5635314</td>\n",
       "      <td>Prowler</td>\n",
       "      <td>Original Mix</td>\n",
       "      <td>f</td>\n",
       "      <td>2001-12-17</td>\n",
       "      <td>92</td>\n",
       "      <td>beatport.com/track/prowler/5635314</td>\n",
       "      <td>67</td>\n",
       "      <td>7:40</td>\n",
       "      <td>460846.0</td>\n",
       "      <td>...</td>\n",
       "      <td>Counterbalance</td>\n",
       "      <td>beatport.com/label/counterbalance/119</td>\n",
       "      <td>324</td>\n",
       "      <td>af7e018a-3213-44c7-801c-8597077cc75b</td>\n",
       "      <td>4036</td>\n",
       "      <td>f</td>\n",
       "      <td>Surgeon</td>\n",
       "      <td>beatport.com/artist/surgeon/4036</td>\n",
       "      <td>42975</td>\n",
       "      <td>0c86b134-ccc0-4268-b7f9-e4fadd9cc00a</td>\n",
       "    </tr>\n",
       "    <tr>\n",
       "      <th>125388</th>\n",
       "      <td>5635344</td>\n",
       "      <td>La Real, Pt. 1</td>\n",
       "      <td>Original Mix</td>\n",
       "      <td>f</td>\n",
       "      <td>2000-03-13</td>\n",
       "      <td>92</td>\n",
       "      <td>beatport.com/track/la-real-pt-1/5635344</td>\n",
       "      <td>134</td>\n",
       "      <td>6:12</td>\n",
       "      <td>372700.0</td>\n",
       "      <td>...</td>\n",
       "      <td>Counterbalance</td>\n",
       "      <td>beatport.com/label/counterbalance/119</td>\n",
       "      <td>324</td>\n",
       "      <td>af7e018a-3213-44c7-801c-8597077cc75b</td>\n",
       "      <td>4036</td>\n",
       "      <td>f</td>\n",
       "      <td>Surgeon</td>\n",
       "      <td>beatport.com/artist/surgeon/4036</td>\n",
       "      <td>42975</td>\n",
       "      <td>0c86b134-ccc0-4268-b7f9-e4fadd9cc00a</td>\n",
       "    </tr>\n",
       "    <tr>\n",
       "      <th>125389</th>\n",
       "      <td>17248613</td>\n",
       "      <td>Blow That Shit Out</td>\n",
       "      <td>Original Mix</td>\n",
       "      <td>f</td>\n",
       "      <td>1995-02-02</td>\n",
       "      <td>92</td>\n",
       "      <td>beatport.com/track/blow-that-shit-out/17248613</td>\n",
       "      <td>135</td>\n",
       "      <td>3:40</td>\n",
       "      <td>220800.0</td>\n",
       "      <td>...</td>\n",
       "      <td>Traxmen Records</td>\n",
       "      <td>beatport.com/label/traxmen-records/41074</td>\n",
       "      <td>9469993</td>\n",
       "      <td>2eb45127-56ea-4d36-a077-2f9eff0dcd13</td>\n",
       "      <td>6374</td>\n",
       "      <td>f</td>\n",
       "      <td>Robert Armani</td>\n",
       "      <td>beatport.com/artist/robert-armani/6374</td>\n",
       "      <td>31603800</td>\n",
       "      <td>99dde20c-2ece-4d40-a857-b286d0102b1a</td>\n",
       "    </tr>\n",
       "    <tr>\n",
       "      <th>125390</th>\n",
       "      <td>17248611</td>\n",
       "      <td>Pipe</td>\n",
       "      <td>Original Mix</td>\n",
       "      <td>f</td>\n",
       "      <td>1995-02-02</td>\n",
       "      <td>92</td>\n",
       "      <td>beatport.com/track/pipe/17248611</td>\n",
       "      <td>135</td>\n",
       "      <td>5:19</td>\n",
       "      <td>319066.0</td>\n",
       "      <td>...</td>\n",
       "      <td>Traxmen Records</td>\n",
       "      <td>beatport.com/label/traxmen-records/41074</td>\n",
       "      <td>9469993</td>\n",
       "      <td>2eb45127-56ea-4d36-a077-2f9eff0dcd13</td>\n",
       "      <td>6374</td>\n",
       "      <td>f</td>\n",
       "      <td>Robert Armani</td>\n",
       "      <td>beatport.com/artist/robert-armani/6374</td>\n",
       "      <td>31603800</td>\n",
       "      <td>99dde20c-2ece-4d40-a857-b286d0102b1a</td>\n",
       "    </tr>\n",
       "  </tbody>\n",
       "</table>\n",
       "<p>125391 rows × 45 columns</p>\n",
       "</div>"
      ],
      "text/plain": [
       "        track_id               title           mix is_remixed release_date  \\\n",
       "0         387142               Avion  Original Mix          f   1994-06-22   \n",
       "1         473092              Rotary     Regis Mix          t   1994-06-22   \n",
       "2        3402856               001#5  Original Mix          f   2012-03-30   \n",
       "3        3402852               001#1  Original Mix          f   2012-03-30   \n",
       "4        3332498                 Czt  Original Mix          f   2012-03-02   \n",
       "...          ...                 ...           ...        ...          ...   \n",
       "125386    649022          Bienfait 2  Original Mix          f   2000-05-24   \n",
       "125387   5635314             Prowler  Original Mix          f   2001-12-17   \n",
       "125388   5635344      La Real, Pt. 1  Original Mix          f   2000-03-13   \n",
       "125389  17248613  Blow That Shit Out  Original Mix          f   1995-02-02   \n",
       "125390  17248611                Pipe  Original Mix          f   1995-02-02   \n",
       "\n",
       "        genre_id                                       track_url  bpm  \\\n",
       "0             92                 beatport.com/track/avion/387142  130   \n",
       "1             92                beatport.com/track/rotary/473092  131   \n",
       "2             92                 beatport.com/track/0015/3402856  116   \n",
       "3             92                 beatport.com/track/0011/3402852  116   \n",
       "4             92                  beatport.com/track/czt/3332498  125   \n",
       "...          ...                                             ...  ...   \n",
       "125386        92            beatport.com/track/bienfait-2/649022   71   \n",
       "125387        92              beatport.com/track/prowler/5635314   67   \n",
       "125388        92         beatport.com/track/la-real-pt-1/5635344  134   \n",
       "125389        92  beatport.com/track/blow-that-shit-out/17248613  135   \n",
       "125390        92                beatport.com/track/pipe/17248611  135   \n",
       "\n",
       "       duration  duration_ms  ...       label_name  \\\n",
       "0          5:52     352466.0  ...         Synewave   \n",
       "1          4:15     255012.0  ...         Synewave   \n",
       "2          7:44     464318.0  ...            Rawax   \n",
       "3          6:25     385100.0  ...            Rawax   \n",
       "4         11:15     675840.0  ...     Silent Steps   \n",
       "...         ...          ...  ...              ...   \n",
       "125386     5:31     331386.0  ...          Kompakt   \n",
       "125387     7:40     460846.0  ...   Counterbalance   \n",
       "125388     6:12     372700.0  ...   Counterbalance   \n",
       "125389     3:40     220800.0  ...  Traxmen Records   \n",
       "125390     5:19     319066.0  ...  Traxmen Records   \n",
       "\n",
       "                                       label_url  label_img_id  \\\n",
       "0               beatport.com/label/synewave/2587       3231998   \n",
       "1               beatport.com/label/synewave/2587       3231998   \n",
       "2                 beatport.com/label/rawax/22353       3942313   \n",
       "3                 beatport.com/label/rawax/22353       3942313   \n",
       "4          beatport.com/label/silent-steps/18855      10060408   \n",
       "...                                          ...           ...   \n",
       "125386           beatport.com/label/kompakt/4530      11537448   \n",
       "125387     beatport.com/label/counterbalance/119           324   \n",
       "125388     beatport.com/label/counterbalance/119           324   \n",
       "125389  beatport.com/label/traxmen-records/41074       9469993   \n",
       "125390  beatport.com/label/traxmen-records/41074       9469993   \n",
       "\n",
       "                              label_img_uuid  artist_id is_remixer  \\\n",
       "0       0d3916f7-e37e-4514-a952-a0187452096f       8004          f   \n",
       "1       0d3916f7-e37e-4514-a952-a0187452096f       8004          f   \n",
       "2       8c92d23c-54f7-4d27-a380-c8e9d73ed9d2     256549          f   \n",
       "3       8c92d23c-54f7-4d27-a380-c8e9d73ed9d2     256549          f   \n",
       "4       5dcc3ced-d42f-4a3a-9a35-5e8479ee664a     132943          f   \n",
       "...                                      ...        ...        ...   \n",
       "125386  2a4c2937-e97c-40a7-8be8-605c7a9b5169       4984          f   \n",
       "125387  af7e018a-3213-44c7-801c-8597077cc75b       4036          f   \n",
       "125388  af7e018a-3213-44c7-801c-8597077cc75b       4036          f   \n",
       "125389  2eb45127-56ea-4d36-a077-2f9eff0dcd13       6374          f   \n",
       "125390  2eb45127-56ea-4d36-a077-2f9eff0dcd13       6374          f   \n",
       "\n",
       "           artist_name                                 artist_url  \\\n",
       "0           Damon Wild        beatport.com/artist/damon-wild/8004   \n",
       "1           Damon Wild        beatport.com/artist/damon-wild/8004   \n",
       "2            Vualitron       beatport.com/artist/vualitron/256549   \n",
       "3            Vualitron       beatport.com/artist/vualitron/256549   \n",
       "4       The Noisemaker  beatport.com/artist/the-noisemaker/132943   \n",
       "...                ...                                        ...   \n",
       "125386    Jonas Bering      beatport.com/artist/jonas-bering/4984   \n",
       "125387         Surgeon           beatport.com/artist/surgeon/4036   \n",
       "125388         Surgeon           beatport.com/artist/surgeon/4036   \n",
       "125389   Robert Armani     beatport.com/artist/robert-armani/6374   \n",
       "125390   Robert Armani     beatport.com/artist/robert-armani/6374   \n",
       "\n",
       "        artist_img_id                       artist_img_uuid  \n",
       "0              245396  48f7f2f3-cc67-450f-9e47-1c0269dac7ae  \n",
       "1              245396  48f7f2f3-cc67-450f-9e47-1c0269dac7ae  \n",
       "2             5539565  0dc61986-bccf-49d4-8fad-6b147ea8f327  \n",
       "3             5539565  0dc61986-bccf-49d4-8fad-6b147ea8f327  \n",
       "4             6484800  7d660daa-a9aa-4ede-b92f-84bb1c18279c  \n",
       "...               ...                                   ...  \n",
       "125386       12330837  7cb378b7-c612-48aa-82a2-15a86549ebd1  \n",
       "125387          42975  0c86b134-ccc0-4268-b7f9-e4fadd9cc00a  \n",
       "125388          42975  0c86b134-ccc0-4268-b7f9-e4fadd9cc00a  \n",
       "125389       31603800  99dde20c-2ece-4d40-a857-b286d0102b1a  \n",
       "125390       31603800  99dde20c-2ece-4d40-a857-b286d0102b1a  \n",
       "\n",
       "[125391 rows x 45 columns]"
      ]
     },
     "execution_count": 15,
     "metadata": {},
     "output_type": "execute_result"
    }
   ],
   "source": [
    "techno_raw_deep_hypnotic_no_subgenre_df = pd.read_csv('split_by_genre_no_subgenre/beatport_techno_raw_deep_hypnotic_no_subgenre.csv')\n",
    "techno_raw_deep_hypnotic_no_subgenre_df"
   ]
  },
  {
   "cell_type": "code",
   "execution_count": 16,
   "metadata": {},
   "outputs": [
    {
     "name": "stderr",
     "output_type": "stream",
     "text": [
      "C:\\Users\\olivi\\AppData\\Local\\Temp\\ipykernel_43640\\3487171811.py:1: DtypeWarning: Columns (15,33,35,36) have mixed types. Specify dtype option on import or set low_memory=False.\n",
      "  df_complete_no_subgenre = pd.read_csv(\"beatport_complete_data.csv\")\n"
     ]
    }
   ],
   "source": [
    "df_complete_no_subgenre = pd.read_csv(\"beatport_complete_data.csv\")\n",
    "df_complete_no_subgenre = df_complete_no_subgenre.drop(columns=['subgenre_id', 'subgenre_id_subgenre', 'subgenre_name', 'song_count_subgenre', 'subgenre_url', 'updated_on', \"is_matched_spot\"])\n",
    "df_complete_no_subgenre = df_complete_no_subgenre.drop_duplicates(subset=['track_id'])\n",
    "df_complete_no_subgenre.to_csv(\"beatport_complete_data_no_subgenre.csv\", index=False)"
   ]
  },
  {
   "cell_type": "code",
   "execution_count": 18,
   "metadata": {},
   "outputs": [],
   "source": [
    "df_complete_no_subgenre.head(50).to_csv('beatport_complete_no_subgenre_sample.csv')"
   ]
  },
  {
   "cell_type": "code",
   "execution_count": 19,
   "metadata": {},
   "outputs": [],
   "source": [
    "df_complete_spotify = pd.read_csv(\"complete/spotify_complete_data.csv\")\n",
    "df_complete_spotify.head(50).to_csv('complete/spotify_complete_sample.csv')\n"
   ]
  },
  {
   "cell_type": "code",
   "execution_count": null,
   "metadata": {},
   "outputs": [],
   "source": []
  }
 ],
 "metadata": {
  "kernelspec": {
   "display_name": "base",
   "language": "python",
   "name": "python3"
  },
  "language_info": {
   "codemirror_mode": {
    "name": "ipython",
    "version": 3
   },
   "file_extension": ".py",
   "mimetype": "text/x-python",
   "name": "python",
   "nbconvert_exporter": "python",
   "pygments_lexer": "ipython3",
   "version": "3.12.4"
  }
 },
 "nbformat": 4,
 "nbformat_minor": 2
}
